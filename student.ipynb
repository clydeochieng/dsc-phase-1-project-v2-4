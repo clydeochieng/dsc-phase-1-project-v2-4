{
 "cells": [
  {
   "cell_type": "markdown",
   "metadata": {},
   "source": [
    "## Final Project Submission\n",
    "\n",
    "Please fill out:\n",
    "* Student name: Clyde Ochieng\n",
    "* Student pace:  full time\n",
    "* Scheduled project review date/time: \n",
    "* Instructor name: Nikita Njoroge \n",
    "* Blog post URL:\n"
   ]
  },
  {
   "cell_type": "markdown",
   "metadata": {},
   "source": [
    "# MICROSOFT MOVIE STUDIO EXPLORATION AND DATA ANALYSIS"
   ]
  },
  {
   "cell_type": "markdown",
   "metadata": {},
   "source": [
    "## 1. Business Understanding"
   ]
  },
  {
   "cell_type": "markdown",
   "metadata": {},
   "source": [
    "### a) Introduction \n",
    "Microsoft is venturing into the entertainment industry by establishing a new movie studio to create original video content. The company recognizes the success of big players in the industry and aims to capitalize on this trend. However, lacking experience in movie production, Microsoft needs insights into the current landscape of successful films at the box office. The goal is to inform strategic decisions regarding the types of films that will resonate well with audiences and maximize profitability."
   ]
  },
  {
   "cell_type": "markdown",
   "metadata": {},
   "source": [
    "### b) Problem Statement\n",
    "Microsoft wants to succeed in the entertainment sector by navigating the complexities of the movie studio business by launching a new venture that will produce original video content that will appeal to viewers and yield maximum profit. Microsoft understands the necessity to learn about the present world of box office-performing films, as it has no past expertise in film creation. The strategic decisions the studio needs to make about the kinds of movies it should make to attract viewers and survive in the cutthroat industry depend heavily on this information."
   ]
  },
  {
   "cell_type": "markdown",
   "metadata": {},
   "source": [
    "### c) Main Objective\n",
    "To empower Microsoft's new movie studio with actionable insights into the dynamics of the film industry, particularly focusing on box office performance by leveraging data analysis and exploration techniques using pandas, where the goal is to identify the key factors contributing to the success of movies, including genres, talented writers, directors, and popularity metrics."
   ]
  },
  {
   "cell_type": "markdown",
   "metadata": {},
   "source": [
    "### d) Specific Objectives\n",
    "\n",
    "1. To explore Box Office Performance by analysing historical data on movies, focusing on key metrics such as total gross, average rating, and number of votes to understand box office performance.\n",
    "\n",
    "2. Translate insights into recommendations by Providing actionable recommendations for Microsoft's movie studio, suggesting specific genres, writers, directors, and popularity metrics to consider for future movie productions.\n",
    "\n",
    "3. Position for success by strategically positioning the new movie studio to create content that not only achieves financial success but also resonates with a diverse audience, fostering long-term growth and success in the entertainment market. \n"
   ]
  },
  {
   "cell_type": "markdown",
   "metadata": {},
   "source": [
    "### e) Experimental Design\n",
    "1. Data Collection\n",
    "2. Read and check the data\n",
    "3. Cleaning the data\n",
    "4. Exploratory Data Analysis\n",
    "5. Conclusions and Recommendations\n"
   ]
  },
  {
   "cell_type": "markdown",
   "metadata": {},
   "source": [
    "### f) Data Understanding \n",
    "The data used in this project are data collected from:\n",
    "1. https://www.boxofficemojo.com/\n",
    "2. https://www.imdb.com/\n",
    "3. https://www.rottentomatoes.com/\n",
    "4. https://www.themoviedb.org/\n",
    "5. https://www.the-numbers.com/\n",
    "\n",
    "The imdb dataset contained 8 tables:\n",
    "|No.| Table    |\n",
    "|---| ---       |\n",
    "|1|movie_basics|\n",
    "|2|directors|\n",
    "|3|known_for|\n",
    "|4|movie_akas|\n",
    "|5|movie_ratings|\n",
    "|6|persons|\n",
    "|7|principals|\n",
    "|8|writers|"
   ]
  },
  {
   "cell_type": "markdown",
   "metadata": {},
   "source": [
    "### 1. Collecting And Importing relevant Modules"
   ]
  },
  {
   "cell_type": "code",
   "execution_count": 1,
   "metadata": {},
   "outputs": [],
   "source": [
    "import pandas as pd\n",
    "import numpy as np\n",
    "import seaborn as sns\n",
    "import csv\n",
    "import os\n",
    "import sqlite3\n",
    "import matplotlib.pyplot as plt\n",
    "%matplotlib inline\n",
    "import zipfile"
   ]
  },
  {
   "cell_type": "markdown",
   "metadata": {},
   "source": [
    "## 2.Reading and Checking the Data "
   ]
  },
  {
   "cell_type": "markdown",
   "metadata": {},
   "source": [
    "### a. IMDB Movies"
   ]
  },
  {
   "cell_type": "markdown",
   "metadata": {},
   "source": [
    "### i)Reading the data"
   ]
  },
  {
   "cell_type": "code",
   "execution_count": 2,
   "metadata": {},
   "outputs": [],
   "source": [
    "# Extract IMDb SQL .db file\n",
    "with zipfile.ZipFile('./zippedData/im.db.zip') as zipObj:\n",
    "    # Extract all contents of .zip file into current directory\n",
    "    zipObj.extractall(path='./zippedData/')\n",
    "    \n",
    "# Create connection to IMDb DB\n",
    "con = sqlite3.connect('./zippedData/im.db')\n",
    "#import data from rt.movie_info.tsv.gz\n",
    "movie_info = pd.read_csv('./zippedData/rt.movie_info.tsv.gz',sep=\"\\t\")\n",
    "#rt.reviews.tsv.gz\n",
    "reviews = pd.read_csv('./zippedData/rt.reviews.tsv.gz',sep=\"\\t\", encoding = 'unicode_escape')\n",
    "#bom.movie_gross.csv.gz\n",
    "movie_gross = pd.read_csv('./zippedData/bom.movie_gross.csv.gz')\n",
    "#tmdb.movies.csv.gz\n",
    "tmdb = pd.read_csv('./zippedData/tmdb.movies.csv.gz')\n",
    "#tn.movie_budgets.csv.gz\n",
    "budgets = pd.read_csv('./zippedData/tn.movie_budgets.csv.gz')"
   ]
  },
  {
   "cell_type": "code",
   "execution_count": 3,
   "metadata": {},
   "outputs": [],
   "source": [
    "im = os.path.join('im.db')\n",
    "# Open up a connection\n",
    "conn = sqlite3.connect(im)\n",
    "# Initialize a cursor\n",
    "cursor = conn.cursor()"
   ]
  },
  {
   "cell_type": "code",
   "execution_count": 4,
   "metadata": {},
   "outputs": [
    {
     "name": "stdout",
     "output_type": "stream",
     "text": [
      "      TableNames\n",
      "0   movie_basics\n",
      "1      directors\n",
      "2      known_for\n",
      "3     movie_akas\n",
      "4  movie_ratings\n",
      "5        persons\n",
      "6     principals\n",
      "7        writers\n"
     ]
    }
   ],
   "source": [
    "import pandas as pd\n",
    "import zipfile\n",
    "import sqlite3\n",
    "\n",
    "# Path to the zip file containing the SQLite database\n",
    "zip_file_path = r'C:\\Users\\user\\Downloads\\Moringa\\dsc-phase-1-project-v2-4\\zippedData\\im.db.zip'\n",
    "\n",
    "# Extract the zip file\n",
    "with zipfile.ZipFile(zip_file_path, 'r') as zip_ref:\n",
    "    # Assuming there's only one file in the zip, get its name\n",
    "    file_name_inside_zip = zip_ref.namelist()[0]\n",
    "    # Extract the file\n",
    "    zip_ref.extractall(r'C:\\Users\\user\\Downloads\\Moringa\\dsc-phase-1-project-v2-4\\unzippedData')\n",
    "\n",
    "# Connect to the SQLite database\n",
    "conn = sqlite3.connect(r'C:\\Users\\user\\Downloads\\Moringa\\dsc-phase-1-project-v2-4\\unzippedData\\im.db')\n",
    "# Viewing the list of tables in the IMDb database\n",
    "imdb_tables = pd.read_sql(\"\"\"\n",
    "SELECT name AS TableNames\n",
    "FROM sqlite_master\n",
    "WHERE type='table'\n",
    "\"\"\", conn)\n",
    "\n",
    "# Print the DataFrame\n",
    "print(imdb_tables)\n",
    "\n"
   ]
  },
  {
   "cell_type": "code",
   "execution_count": 5,
   "metadata": {},
   "outputs": [
    {
     "data": {
      "text/html": [
       "<div>\n",
       "<style scoped>\n",
       "    .dataframe tbody tr th:only-of-type {\n",
       "        vertical-align: middle;\n",
       "    }\n",
       "\n",
       "    .dataframe tbody tr th {\n",
       "        vertical-align: top;\n",
       "    }\n",
       "\n",
       "    .dataframe thead th {\n",
       "        text-align: right;\n",
       "    }\n",
       "</style>\n",
       "<table border=\"1\" class=\"dataframe\">\n",
       "  <thead>\n",
       "    <tr style=\"text-align: right;\">\n",
       "      <th></th>\n",
       "      <th>movie_id</th>\n",
       "      <th>person_id</th>\n",
       "    </tr>\n",
       "  </thead>\n",
       "  <tbody>\n",
       "    <tr>\n",
       "      <th>0</th>\n",
       "      <td>tt0285252</td>\n",
       "      <td>nm0899854</td>\n",
       "    </tr>\n",
       "    <tr>\n",
       "      <th>1</th>\n",
       "      <td>tt0462036</td>\n",
       "      <td>nm1940585</td>\n",
       "    </tr>\n",
       "    <tr>\n",
       "      <th>2</th>\n",
       "      <td>tt0835418</td>\n",
       "      <td>nm0151540</td>\n",
       "    </tr>\n",
       "    <tr>\n",
       "      <th>3</th>\n",
       "      <td>tt0835418</td>\n",
       "      <td>nm0151540</td>\n",
       "    </tr>\n",
       "    <tr>\n",
       "      <th>4</th>\n",
       "      <td>tt0878654</td>\n",
       "      <td>nm0089502</td>\n",
       "    </tr>\n",
       "  </tbody>\n",
       "</table>\n",
       "</div>"
      ],
      "text/plain": [
       "    movie_id  person_id\n",
       "0  tt0285252  nm0899854\n",
       "1  tt0462036  nm1940585\n",
       "2  tt0835418  nm0151540\n",
       "3  tt0835418  nm0151540\n",
       "4  tt0878654  nm0089502"
      ]
     },
     "execution_count": 5,
     "metadata": {},
     "output_type": "execute_result"
    }
   ],
   "source": [
    "#previewing the directors table\n",
    "q = pd.read_sql(\"\"\"\n",
    "SELECT *\n",
    "FROM directors\n",
    ";\n",
    "\"\"\",conn)\n",
    "q.head()"
   ]
  },
  {
   "cell_type": "code",
   "execution_count": 6,
   "metadata": {},
   "outputs": [
    {
     "data": {
      "text/html": [
       "<div>\n",
       "<style scoped>\n",
       "    .dataframe tbody tr th:only-of-type {\n",
       "        vertical-align: middle;\n",
       "    }\n",
       "\n",
       "    .dataframe tbody tr th {\n",
       "        vertical-align: top;\n",
       "    }\n",
       "\n",
       "    .dataframe thead th {\n",
       "        text-align: right;\n",
       "    }\n",
       "</style>\n",
       "<table border=\"1\" class=\"dataframe\">\n",
       "  <thead>\n",
       "    <tr style=\"text-align: right;\">\n",
       "      <th></th>\n",
       "      <th>movie_id</th>\n",
       "      <th>averagerating</th>\n",
       "      <th>numvotes</th>\n",
       "    </tr>\n",
       "  </thead>\n",
       "  <tbody>\n",
       "    <tr>\n",
       "      <th>0</th>\n",
       "      <td>tt10356526</td>\n",
       "      <td>8.3</td>\n",
       "      <td>31</td>\n",
       "    </tr>\n",
       "    <tr>\n",
       "      <th>1</th>\n",
       "      <td>tt10384606</td>\n",
       "      <td>8.9</td>\n",
       "      <td>559</td>\n",
       "    </tr>\n",
       "    <tr>\n",
       "      <th>2</th>\n",
       "      <td>tt1042974</td>\n",
       "      <td>6.4</td>\n",
       "      <td>20</td>\n",
       "    </tr>\n",
       "    <tr>\n",
       "      <th>3</th>\n",
       "      <td>tt1043726</td>\n",
       "      <td>4.2</td>\n",
       "      <td>50352</td>\n",
       "    </tr>\n",
       "    <tr>\n",
       "      <th>4</th>\n",
       "      <td>tt1060240</td>\n",
       "      <td>6.5</td>\n",
       "      <td>21</td>\n",
       "    </tr>\n",
       "  </tbody>\n",
       "</table>\n",
       "</div>"
      ],
      "text/plain": [
       "     movie_id  averagerating  numvotes\n",
       "0  tt10356526            8.3        31\n",
       "1  tt10384606            8.9       559\n",
       "2   tt1042974            6.4        20\n",
       "3   tt1043726            4.2     50352\n",
       "4   tt1060240            6.5        21"
      ]
     },
     "execution_count": 6,
     "metadata": {},
     "output_type": "execute_result"
    }
   ],
   "source": [
    "#previewing movie_ratings table\n",
    "q1 = pd.read_sql(\"\"\"\n",
    "SELECT *\n",
    "FROM movie_ratings\n",
    ";\n",
    "\"\"\",conn)\n",
    "q1.head()"
   ]
  },
  {
   "cell_type": "code",
   "execution_count": 7,
   "metadata": {},
   "outputs": [
    {
     "data": {
      "text/html": [
       "<div>\n",
       "<style scoped>\n",
       "    .dataframe tbody tr th:only-of-type {\n",
       "        vertical-align: middle;\n",
       "    }\n",
       "\n",
       "    .dataframe tbody tr th {\n",
       "        vertical-align: top;\n",
       "    }\n",
       "\n",
       "    .dataframe thead th {\n",
       "        text-align: right;\n",
       "    }\n",
       "</style>\n",
       "<table border=\"1\" class=\"dataframe\">\n",
       "  <thead>\n",
       "    <tr style=\"text-align: right;\">\n",
       "      <th></th>\n",
       "      <th>movie_id</th>\n",
       "      <th>primary_title</th>\n",
       "      <th>original_title</th>\n",
       "      <th>start_year</th>\n",
       "      <th>runtime_minutes</th>\n",
       "      <th>genres</th>\n",
       "    </tr>\n",
       "  </thead>\n",
       "  <tbody>\n",
       "    <tr>\n",
       "      <th>0</th>\n",
       "      <td>tt0063540</td>\n",
       "      <td>Sunghursh</td>\n",
       "      <td>Sunghursh</td>\n",
       "      <td>2013</td>\n",
       "      <td>175.0</td>\n",
       "      <td>Action,Crime,Drama</td>\n",
       "    </tr>\n",
       "    <tr>\n",
       "      <th>1</th>\n",
       "      <td>tt0066787</td>\n",
       "      <td>One Day Before the Rainy Season</td>\n",
       "      <td>Ashad Ka Ek Din</td>\n",
       "      <td>2019</td>\n",
       "      <td>114.0</td>\n",
       "      <td>Biography,Drama</td>\n",
       "    </tr>\n",
       "    <tr>\n",
       "      <th>2</th>\n",
       "      <td>tt0069049</td>\n",
       "      <td>The Other Side of the Wind</td>\n",
       "      <td>The Other Side of the Wind</td>\n",
       "      <td>2018</td>\n",
       "      <td>122.0</td>\n",
       "      <td>Drama</td>\n",
       "    </tr>\n",
       "    <tr>\n",
       "      <th>3</th>\n",
       "      <td>tt0069204</td>\n",
       "      <td>Sabse Bada Sukh</td>\n",
       "      <td>Sabse Bada Sukh</td>\n",
       "      <td>2018</td>\n",
       "      <td>NaN</td>\n",
       "      <td>Comedy,Drama</td>\n",
       "    </tr>\n",
       "    <tr>\n",
       "      <th>4</th>\n",
       "      <td>tt0100275</td>\n",
       "      <td>The Wandering Soap Opera</td>\n",
       "      <td>La Telenovela Errante</td>\n",
       "      <td>2017</td>\n",
       "      <td>80.0</td>\n",
       "      <td>Comedy,Drama,Fantasy</td>\n",
       "    </tr>\n",
       "  </tbody>\n",
       "</table>\n",
       "</div>"
      ],
      "text/plain": [
       "    movie_id                    primary_title              original_title  \\\n",
       "0  tt0063540                        Sunghursh                   Sunghursh   \n",
       "1  tt0066787  One Day Before the Rainy Season             Ashad Ka Ek Din   \n",
       "2  tt0069049       The Other Side of the Wind  The Other Side of the Wind   \n",
       "3  tt0069204                  Sabse Bada Sukh             Sabse Bada Sukh   \n",
       "4  tt0100275         The Wandering Soap Opera       La Telenovela Errante   \n",
       "\n",
       "   start_year  runtime_minutes                genres  \n",
       "0        2013            175.0    Action,Crime,Drama  \n",
       "1        2019            114.0       Biography,Drama  \n",
       "2        2018            122.0                 Drama  \n",
       "3        2018              NaN          Comedy,Drama  \n",
       "4        2017             80.0  Comedy,Drama,Fantasy  "
      ]
     },
     "execution_count": 7,
     "metadata": {},
     "output_type": "execute_result"
    }
   ],
   "source": [
    "#previewing movie_basics table\n",
    "q2 = pd.read_sql(\"\"\"\n",
    "SELECT *\n",
    "FROM movie_basics\n",
    ";\n",
    "\"\"\",conn)\n",
    "q2.head()"
   ]
  },
  {
   "cell_type": "code",
   "execution_count": 8,
   "metadata": {},
   "outputs": [
    {
     "data": {
      "text/html": [
       "<div>\n",
       "<style scoped>\n",
       "    .dataframe tbody tr th:only-of-type {\n",
       "        vertical-align: middle;\n",
       "    }\n",
       "\n",
       "    .dataframe tbody tr th {\n",
       "        vertical-align: top;\n",
       "    }\n",
       "\n",
       "    .dataframe thead th {\n",
       "        text-align: right;\n",
       "    }\n",
       "</style>\n",
       "<table border=\"1\" class=\"dataframe\">\n",
       "  <thead>\n",
       "    <tr style=\"text-align: right;\">\n",
       "      <th></th>\n",
       "      <th>person_id</th>\n",
       "      <th>primary_name</th>\n",
       "      <th>birth_year</th>\n",
       "      <th>death_year</th>\n",
       "      <th>primary_profession</th>\n",
       "    </tr>\n",
       "  </thead>\n",
       "  <tbody>\n",
       "    <tr>\n",
       "      <th>0</th>\n",
       "      <td>nm0061671</td>\n",
       "      <td>Mary Ellen Bauder</td>\n",
       "      <td>NaN</td>\n",
       "      <td>NaN</td>\n",
       "      <td>miscellaneous,production_manager,producer</td>\n",
       "    </tr>\n",
       "    <tr>\n",
       "      <th>1</th>\n",
       "      <td>nm0061865</td>\n",
       "      <td>Joseph Bauer</td>\n",
       "      <td>NaN</td>\n",
       "      <td>NaN</td>\n",
       "      <td>composer,music_department,sound_department</td>\n",
       "    </tr>\n",
       "    <tr>\n",
       "      <th>2</th>\n",
       "      <td>nm0062070</td>\n",
       "      <td>Bruce Baum</td>\n",
       "      <td>NaN</td>\n",
       "      <td>NaN</td>\n",
       "      <td>miscellaneous,actor,writer</td>\n",
       "    </tr>\n",
       "    <tr>\n",
       "      <th>3</th>\n",
       "      <td>nm0062195</td>\n",
       "      <td>Axel Baumann</td>\n",
       "      <td>NaN</td>\n",
       "      <td>NaN</td>\n",
       "      <td>camera_department,cinematographer,art_department</td>\n",
       "    </tr>\n",
       "    <tr>\n",
       "      <th>4</th>\n",
       "      <td>nm0062798</td>\n",
       "      <td>Pete Baxter</td>\n",
       "      <td>NaN</td>\n",
       "      <td>NaN</td>\n",
       "      <td>production_designer,art_department,set_decorator</td>\n",
       "    </tr>\n",
       "  </tbody>\n",
       "</table>\n",
       "</div>"
      ],
      "text/plain": [
       "   person_id       primary_name  birth_year  death_year  \\\n",
       "0  nm0061671  Mary Ellen Bauder         NaN         NaN   \n",
       "1  nm0061865       Joseph Bauer         NaN         NaN   \n",
       "2  nm0062070         Bruce Baum         NaN         NaN   \n",
       "3  nm0062195       Axel Baumann         NaN         NaN   \n",
       "4  nm0062798        Pete Baxter         NaN         NaN   \n",
       "\n",
       "                                 primary_profession  \n",
       "0         miscellaneous,production_manager,producer  \n",
       "1        composer,music_department,sound_department  \n",
       "2                        miscellaneous,actor,writer  \n",
       "3  camera_department,cinematographer,art_department  \n",
       "4  production_designer,art_department,set_decorator  "
      ]
     },
     "execution_count": 8,
     "metadata": {},
     "output_type": "execute_result"
    }
   ],
   "source": [
    "#previewing the persons table\n",
    "q3 = pd.read_sql(\"\"\"\n",
    "SELECT *\n",
    "FROM persons\n",
    ";\n",
    "\"\"\",conn)\n",
    "q3.head()"
   ]
  },
  {
   "cell_type": "markdown",
   "metadata": {},
   "source": [
    "### ii)Merging movie_basics to movie_ratings, directors and persons table."
   ]
  },
  {
   "cell_type": "code",
   "execution_count": 9,
   "metadata": {},
   "outputs": [
    {
     "data": {
      "text/html": [
       "<div>\n",
       "<style scoped>\n",
       "    .dataframe tbody tr th:only-of-type {\n",
       "        vertical-align: middle;\n",
       "    }\n",
       "\n",
       "    .dataframe tbody tr th {\n",
       "        vertical-align: top;\n",
       "    }\n",
       "\n",
       "    .dataframe thead th {\n",
       "        text-align: right;\n",
       "    }\n",
       "</style>\n",
       "<table border=\"1\" class=\"dataframe\">\n",
       "  <thead>\n",
       "    <tr style=\"text-align: right;\">\n",
       "      <th></th>\n",
       "      <th>movie_id</th>\n",
       "      <th>primary_title</th>\n",
       "      <th>original_title</th>\n",
       "      <th>start_year</th>\n",
       "      <th>runtime_minutes</th>\n",
       "      <th>genres</th>\n",
       "      <th>averagerating</th>\n",
       "      <th>numvotes</th>\n",
       "      <th>person_id</th>\n",
       "      <th>primary_name</th>\n",
       "      <th>birth_year</th>\n",
       "      <th>death_year</th>\n",
       "      <th>primary_profession</th>\n",
       "    </tr>\n",
       "  </thead>\n",
       "  <tbody>\n",
       "    <tr>\n",
       "      <th>0</th>\n",
       "      <td>tt0063540</td>\n",
       "      <td>Sunghursh</td>\n",
       "      <td>Sunghursh</td>\n",
       "      <td>2013</td>\n",
       "      <td>175.0</td>\n",
       "      <td>Action,Crime,Drama</td>\n",
       "      <td>7.0</td>\n",
       "      <td>77</td>\n",
       "      <td>nm0712540</td>\n",
       "      <td>Harnam Singh Rawail</td>\n",
       "      <td>1921.0</td>\n",
       "      <td>2004.0</td>\n",
       "      <td>director,writer,producer</td>\n",
       "    </tr>\n",
       "    <tr>\n",
       "      <th>1</th>\n",
       "      <td>tt0063540</td>\n",
       "      <td>Sunghursh</td>\n",
       "      <td>Sunghursh</td>\n",
       "      <td>2013</td>\n",
       "      <td>175.0</td>\n",
       "      <td>Action,Crime,Drama</td>\n",
       "      <td>7.0</td>\n",
       "      <td>77</td>\n",
       "      <td>nm0712540</td>\n",
       "      <td>Harnam Singh Rawail</td>\n",
       "      <td>1921.0</td>\n",
       "      <td>2004.0</td>\n",
       "      <td>director,writer,producer</td>\n",
       "    </tr>\n",
       "    <tr>\n",
       "      <th>2</th>\n",
       "      <td>tt0063540</td>\n",
       "      <td>Sunghursh</td>\n",
       "      <td>Sunghursh</td>\n",
       "      <td>2013</td>\n",
       "      <td>175.0</td>\n",
       "      <td>Action,Crime,Drama</td>\n",
       "      <td>7.0</td>\n",
       "      <td>77</td>\n",
       "      <td>nm0712540</td>\n",
       "      <td>Harnam Singh Rawail</td>\n",
       "      <td>1921.0</td>\n",
       "      <td>2004.0</td>\n",
       "      <td>director,writer,producer</td>\n",
       "    </tr>\n",
       "    <tr>\n",
       "      <th>3</th>\n",
       "      <td>tt0063540</td>\n",
       "      <td>Sunghursh</td>\n",
       "      <td>Sunghursh</td>\n",
       "      <td>2013</td>\n",
       "      <td>175.0</td>\n",
       "      <td>Action,Crime,Drama</td>\n",
       "      <td>7.0</td>\n",
       "      <td>77</td>\n",
       "      <td>nm0712540</td>\n",
       "      <td>Harnam Singh Rawail</td>\n",
       "      <td>1921.0</td>\n",
       "      <td>2004.0</td>\n",
       "      <td>director,writer,producer</td>\n",
       "    </tr>\n",
       "    <tr>\n",
       "      <th>4</th>\n",
       "      <td>tt0066787</td>\n",
       "      <td>One Day Before the Rainy Season</td>\n",
       "      <td>Ashad Ka Ek Din</td>\n",
       "      <td>2019</td>\n",
       "      <td>114.0</td>\n",
       "      <td>Biography,Drama</td>\n",
       "      <td>7.2</td>\n",
       "      <td>43</td>\n",
       "      <td>nm0002411</td>\n",
       "      <td>Mani Kaul</td>\n",
       "      <td>1944.0</td>\n",
       "      <td>2011.0</td>\n",
       "      <td>director,writer,actor</td>\n",
       "    </tr>\n",
       "  </tbody>\n",
       "</table>\n",
       "</div>"
      ],
      "text/plain": [
       "    movie_id                    primary_title   original_title  start_year  \\\n",
       "0  tt0063540                        Sunghursh        Sunghursh        2013   \n",
       "1  tt0063540                        Sunghursh        Sunghursh        2013   \n",
       "2  tt0063540                        Sunghursh        Sunghursh        2013   \n",
       "3  tt0063540                        Sunghursh        Sunghursh        2013   \n",
       "4  tt0066787  One Day Before the Rainy Season  Ashad Ka Ek Din        2019   \n",
       "\n",
       "   runtime_minutes              genres  averagerating  numvotes  person_id  \\\n",
       "0            175.0  Action,Crime,Drama            7.0        77  nm0712540   \n",
       "1            175.0  Action,Crime,Drama            7.0        77  nm0712540   \n",
       "2            175.0  Action,Crime,Drama            7.0        77  nm0712540   \n",
       "3            175.0  Action,Crime,Drama            7.0        77  nm0712540   \n",
       "4            114.0     Biography,Drama            7.2        43  nm0002411   \n",
       "\n",
       "          primary_name  birth_year  death_year        primary_profession  \n",
       "0  Harnam Singh Rawail      1921.0      2004.0  director,writer,producer  \n",
       "1  Harnam Singh Rawail      1921.0      2004.0  director,writer,producer  \n",
       "2  Harnam Singh Rawail      1921.0      2004.0  director,writer,producer  \n",
       "3  Harnam Singh Rawail      1921.0      2004.0  director,writer,producer  \n",
       "4            Mani Kaul      1944.0      2011.0     director,writer,actor  "
      ]
     },
     "execution_count": 9,
     "metadata": {},
     "output_type": "execute_result"
    }
   ],
   "source": [
    "#joining movie_basics to movie_ratings on movie_id and previewing the top\n",
    "imdb = pd.read_sql(\"\"\"\n",
    "SELECT *\n",
    "FROM movie_basics b\n",
    "JOIN movie_ratings r\n",
    "USING (movie_id)\n",
    "JOIN directors d\n",
    "USING (movie_id)\n",
    "JOIN persons p\n",
    "USING (person_id)\n",
    ";\n",
    "\"\"\",conn)\n",
    "imdb.head()"
   ]
  },
  {
   "cell_type": "code",
   "execution_count": 10,
   "metadata": {},
   "outputs": [],
   "source": [
    "#closing the connection to the database\n",
    "conn.close()"
   ]
  },
  {
   "cell_type": "code",
   "execution_count": 11,
   "metadata": {},
   "outputs": [
    {
     "data": {
      "text/html": [
       "<div>\n",
       "<style scoped>\n",
       "    .dataframe tbody tr th:only-of-type {\n",
       "        vertical-align: middle;\n",
       "    }\n",
       "\n",
       "    .dataframe tbody tr th {\n",
       "        vertical-align: top;\n",
       "    }\n",
       "\n",
       "    .dataframe thead th {\n",
       "        text-align: right;\n",
       "    }\n",
       "</style>\n",
       "<table border=\"1\" class=\"dataframe\">\n",
       "  <thead>\n",
       "    <tr style=\"text-align: right;\">\n",
       "      <th></th>\n",
       "      <th>movie_id</th>\n",
       "      <th>primary_title</th>\n",
       "      <th>original_title</th>\n",
       "      <th>start_year</th>\n",
       "      <th>runtime_minutes</th>\n",
       "      <th>genres</th>\n",
       "      <th>averagerating</th>\n",
       "      <th>numvotes</th>\n",
       "      <th>person_id</th>\n",
       "      <th>primary_name</th>\n",
       "      <th>birth_year</th>\n",
       "      <th>death_year</th>\n",
       "      <th>primary_profession</th>\n",
       "    </tr>\n",
       "  </thead>\n",
       "  <tbody>\n",
       "    <tr>\n",
       "      <th>181382</th>\n",
       "      <td>tt9914642</td>\n",
       "      <td>Albatross</td>\n",
       "      <td>Albatross</td>\n",
       "      <td>2017</td>\n",
       "      <td>NaN</td>\n",
       "      <td>Documentary</td>\n",
       "      <td>8.5</td>\n",
       "      <td>8</td>\n",
       "      <td>nm5300859</td>\n",
       "      <td>Chris Jordan</td>\n",
       "      <td>NaN</td>\n",
       "      <td>NaN</td>\n",
       "      <td>director,writer,editor</td>\n",
       "    </tr>\n",
       "    <tr>\n",
       "      <th>181383</th>\n",
       "      <td>tt9914642</td>\n",
       "      <td>Albatross</td>\n",
       "      <td>Albatross</td>\n",
       "      <td>2017</td>\n",
       "      <td>NaN</td>\n",
       "      <td>Documentary</td>\n",
       "      <td>8.5</td>\n",
       "      <td>8</td>\n",
       "      <td>nm5300859</td>\n",
       "      <td>Chris Jordan</td>\n",
       "      <td>NaN</td>\n",
       "      <td>NaN</td>\n",
       "      <td>director,writer,editor</td>\n",
       "    </tr>\n",
       "    <tr>\n",
       "      <th>181384</th>\n",
       "      <td>tt9914942</td>\n",
       "      <td>La vida sense la Sara Amat</td>\n",
       "      <td>La vida sense la Sara Amat</td>\n",
       "      <td>2019</td>\n",
       "      <td>NaN</td>\n",
       "      <td>None</td>\n",
       "      <td>6.6</td>\n",
       "      <td>5</td>\n",
       "      <td>nm1716653</td>\n",
       "      <td>Laura Jou</td>\n",
       "      <td>NaN</td>\n",
       "      <td>NaN</td>\n",
       "      <td>miscellaneous,actress,director</td>\n",
       "    </tr>\n",
       "    <tr>\n",
       "      <th>181385</th>\n",
       "      <td>tt9914942</td>\n",
       "      <td>La vida sense la Sara Amat</td>\n",
       "      <td>La vida sense la Sara Amat</td>\n",
       "      <td>2019</td>\n",
       "      <td>NaN</td>\n",
       "      <td>None</td>\n",
       "      <td>6.6</td>\n",
       "      <td>5</td>\n",
       "      <td>nm1716653</td>\n",
       "      <td>Laura Jou</td>\n",
       "      <td>NaN</td>\n",
       "      <td>NaN</td>\n",
       "      <td>miscellaneous,actress,director</td>\n",
       "    </tr>\n",
       "    <tr>\n",
       "      <th>181386</th>\n",
       "      <td>tt9916160</td>\n",
       "      <td>Drømmeland</td>\n",
       "      <td>Drømmeland</td>\n",
       "      <td>2019</td>\n",
       "      <td>72.0</td>\n",
       "      <td>Documentary</td>\n",
       "      <td>6.5</td>\n",
       "      <td>11</td>\n",
       "      <td>nm5684093</td>\n",
       "      <td>Joost van der Wiel</td>\n",
       "      <td>NaN</td>\n",
       "      <td>NaN</td>\n",
       "      <td>director,cinematographer,writer</td>\n",
       "    </tr>\n",
       "  </tbody>\n",
       "</table>\n",
       "</div>"
      ],
      "text/plain": [
       "         movie_id               primary_title              original_title  \\\n",
       "181382  tt9914642                   Albatross                   Albatross   \n",
       "181383  tt9914642                   Albatross                   Albatross   \n",
       "181384  tt9914942  La vida sense la Sara Amat  La vida sense la Sara Amat   \n",
       "181385  tt9914942  La vida sense la Sara Amat  La vida sense la Sara Amat   \n",
       "181386  tt9916160                  Drømmeland                  Drømmeland   \n",
       "\n",
       "        start_year  runtime_minutes       genres  averagerating  numvotes  \\\n",
       "181382        2017              NaN  Documentary            8.5         8   \n",
       "181383        2017              NaN  Documentary            8.5         8   \n",
       "181384        2019              NaN         None            6.6         5   \n",
       "181385        2019              NaN         None            6.6         5   \n",
       "181386        2019             72.0  Documentary            6.5        11   \n",
       "\n",
       "        person_id        primary_name  birth_year  death_year  \\\n",
       "181382  nm5300859        Chris Jordan         NaN         NaN   \n",
       "181383  nm5300859        Chris Jordan         NaN         NaN   \n",
       "181384  nm1716653           Laura Jou         NaN         NaN   \n",
       "181385  nm1716653           Laura Jou         NaN         NaN   \n",
       "181386  nm5684093  Joost van der Wiel         NaN         NaN   \n",
       "\n",
       "                     primary_profession  \n",
       "181382           director,writer,editor  \n",
       "181383           director,writer,editor  \n",
       "181384   miscellaneous,actress,director  \n",
       "181385   miscellaneous,actress,director  \n",
       "181386  director,cinematographer,writer  "
      ]
     },
     "execution_count": 11,
     "metadata": {},
     "output_type": "execute_result"
    }
   ],
   "source": [
    "#viewing the bottom of the imdb dataframe\n",
    "imdb.tail()"
   ]
  },
  {
   "cell_type": "markdown",
   "metadata": {},
   "source": [
    "## iii)Calculating the count of entries in the IMDb dataframe"
   ]
  },
  {
   "cell_type": "code",
   "execution_count": 12,
   "metadata": {},
   "outputs": [
    {
     "data": {
      "text/plain": [
       "(181387, 13)"
      ]
     },
     "execution_count": 12,
     "metadata": {},
     "output_type": "execute_result"
    }
   ],
   "source": [
    "#determining the number of records in the imdb dataframe\n",
    "imdb.shape"
   ]
  },
  {
   "cell_type": "code",
   "execution_count": 13,
   "metadata": {},
   "outputs": [
    {
     "name": "stdout",
     "output_type": "stream",
     "text": [
      "<class 'pandas.core.frame.DataFrame'>\n",
      "RangeIndex: 181387 entries, 0 to 181386\n",
      "Data columns (total 13 columns):\n",
      " #   Column              Non-Null Count   Dtype  \n",
      "---  ------              --------------   -----  \n",
      " 0   movie_id            181387 non-null  object \n",
      " 1   primary_title       181387 non-null  object \n",
      " 2   original_title      181387 non-null  object \n",
      " 3   start_year          181387 non-null  int64  \n",
      " 4   runtime_minutes     163584 non-null  float64\n",
      " 5   genres              180047 non-null  object \n",
      " 6   averagerating       181387 non-null  float64\n",
      " 7   numvotes            181387 non-null  int64  \n",
      " 8   person_id           181387 non-null  object \n",
      " 9   primary_name        181387 non-null  object \n",
      " 10  birth_year          54805 non-null   float64\n",
      " 11  death_year          1342 non-null    float64\n",
      " 12  primary_profession  181262 non-null  object \n",
      "dtypes: float64(4), int64(2), object(7)\n",
      "memory usage: 18.0+ MB\n"
     ]
    }
   ],
   "source": [
    "#checking the information\n",
    "imdb.info()"
   ]
  },
  {
   "cell_type": "markdown",
   "metadata": {},
   "source": [
    "### iv)checking out the stats summary of the IMDb data."
   ]
  },
  {
   "cell_type": "code",
   "execution_count": 14,
   "metadata": {},
   "outputs": [
    {
     "data": {
      "text/html": [
       "<div>\n",
       "<style scoped>\n",
       "    .dataframe tbody tr th:only-of-type {\n",
       "        vertical-align: middle;\n",
       "    }\n",
       "\n",
       "    .dataframe tbody tr th {\n",
       "        vertical-align: top;\n",
       "    }\n",
       "\n",
       "    .dataframe thead th {\n",
       "        text-align: right;\n",
       "    }\n",
       "</style>\n",
       "<table border=\"1\" class=\"dataframe\">\n",
       "  <thead>\n",
       "    <tr style=\"text-align: right;\">\n",
       "      <th></th>\n",
       "      <th>start_year</th>\n",
       "      <th>runtime_minutes</th>\n",
       "      <th>averagerating</th>\n",
       "      <th>numvotes</th>\n",
       "      <th>birth_year</th>\n",
       "      <th>death_year</th>\n",
       "    </tr>\n",
       "  </thead>\n",
       "  <tbody>\n",
       "    <tr>\n",
       "      <th>count</th>\n",
       "      <td>181387.000000</td>\n",
       "      <td>163584.000000</td>\n",
       "      <td>181387.000000</td>\n",
       "      <td>1.813870e+05</td>\n",
       "      <td>54805.000000</td>\n",
       "      <td>1342.000000</td>\n",
       "    </tr>\n",
       "    <tr>\n",
       "      <th>mean</th>\n",
       "      <td>2014.309802</td>\n",
       "      <td>97.789484</td>\n",
       "      <td>6.217683</td>\n",
       "      <td>4.955524e+03</td>\n",
       "      <td>1969.097856</td>\n",
       "      <td>2014.908346</td>\n",
       "    </tr>\n",
       "    <tr>\n",
       "      <th>std</th>\n",
       "      <td>2.536111</td>\n",
       "      <td>194.434689</td>\n",
       "      <td>1.388026</td>\n",
       "      <td>3.760931e+04</td>\n",
       "      <td>12.499740</td>\n",
       "      <td>4.866581</td>\n",
       "    </tr>\n",
       "    <tr>\n",
       "      <th>min</th>\n",
       "      <td>2010.000000</td>\n",
       "      <td>3.000000</td>\n",
       "      <td>1.000000</td>\n",
       "      <td>5.000000e+00</td>\n",
       "      <td>1870.000000</td>\n",
       "      <td>1944.000000</td>\n",
       "    </tr>\n",
       "    <tr>\n",
       "      <th>25%</th>\n",
       "      <td>2012.000000</td>\n",
       "      <td>84.000000</td>\n",
       "      <td>5.400000</td>\n",
       "      <td>1.900000e+01</td>\n",
       "      <td>1962.000000</td>\n",
       "      <td>2014.000000</td>\n",
       "    </tr>\n",
       "    <tr>\n",
       "      <th>50%</th>\n",
       "      <td>2014.000000</td>\n",
       "      <td>94.000000</td>\n",
       "      <td>6.300000</td>\n",
       "      <td>6.600000e+01</td>\n",
       "      <td>1971.000000</td>\n",
       "      <td>2016.000000</td>\n",
       "    </tr>\n",
       "    <tr>\n",
       "      <th>75%</th>\n",
       "      <td>2016.000000</td>\n",
       "      <td>107.000000</td>\n",
       "      <td>7.200000</td>\n",
       "      <td>3.110000e+02</td>\n",
       "      <td>1978.000000</td>\n",
       "      <td>2018.000000</td>\n",
       "    </tr>\n",
       "    <tr>\n",
       "      <th>max</th>\n",
       "      <td>2019.000000</td>\n",
       "      <td>51420.000000</td>\n",
       "      <td>10.000000</td>\n",
       "      <td>1.841066e+06</td>\n",
       "      <td>2004.000000</td>\n",
       "      <td>2019.000000</td>\n",
       "    </tr>\n",
       "  </tbody>\n",
       "</table>\n",
       "</div>"
      ],
      "text/plain": [
       "          start_year  runtime_minutes  averagerating      numvotes  \\\n",
       "count  181387.000000    163584.000000  181387.000000  1.813870e+05   \n",
       "mean     2014.309802        97.789484       6.217683  4.955524e+03   \n",
       "std         2.536111       194.434689       1.388026  3.760931e+04   \n",
       "min      2010.000000         3.000000       1.000000  5.000000e+00   \n",
       "25%      2012.000000        84.000000       5.400000  1.900000e+01   \n",
       "50%      2014.000000        94.000000       6.300000  6.600000e+01   \n",
       "75%      2016.000000       107.000000       7.200000  3.110000e+02   \n",
       "max      2019.000000     51420.000000      10.000000  1.841066e+06   \n",
       "\n",
       "         birth_year   death_year  \n",
       "count  54805.000000  1342.000000  \n",
       "mean    1969.097856  2014.908346  \n",
       "std       12.499740     4.866581  \n",
       "min     1870.000000  1944.000000  \n",
       "25%     1962.000000  2014.000000  \n",
       "50%     1971.000000  2016.000000  \n",
       "75%     1978.000000  2018.000000  \n",
       "max     2004.000000  2019.000000  "
      ]
     },
     "execution_count": 14,
     "metadata": {},
     "output_type": "execute_result"
    }
   ],
   "source": [
    "#previewing the summary statistics of imdb \n",
    "imdb.describe()"
   ]
  },
  {
   "cell_type": "markdown",
   "metadata": {},
   "source": [
    "## Observations:\n",
    "1. There are columns with missing data, these are runtime_minutes, genres, birth_year, death_year and primary_profession.\n",
    "2. runtime_minutes has a movie that is 51420 minutes and 3 minutes long and the standard deviation is at 194.4.\n",
    "3. The genres are separated by commas."
   ]
  },
  {
   "cell_type": "markdown",
   "metadata": {},
   "source": [
    "### b. Bom_movies "
   ]
  },
  {
   "cell_type": "code",
   "execution_count": 15,
   "metadata": {},
   "outputs": [
    {
     "data": {
      "text/html": [
       "<div>\n",
       "<style scoped>\n",
       "    .dataframe tbody tr th:only-of-type {\n",
       "        vertical-align: middle;\n",
       "    }\n",
       "\n",
       "    .dataframe tbody tr th {\n",
       "        vertical-align: top;\n",
       "    }\n",
       "\n",
       "    .dataframe thead th {\n",
       "        text-align: right;\n",
       "    }\n",
       "</style>\n",
       "<table border=\"1\" class=\"dataframe\">\n",
       "  <thead>\n",
       "    <tr style=\"text-align: right;\">\n",
       "      <th></th>\n",
       "      <th>title</th>\n",
       "      <th>studio</th>\n",
       "      <th>domestic_gross</th>\n",
       "      <th>foreign_gross</th>\n",
       "      <th>year</th>\n",
       "    </tr>\n",
       "  </thead>\n",
       "  <tbody>\n",
       "    <tr>\n",
       "      <th>0</th>\n",
       "      <td>Toy Story 3</td>\n",
       "      <td>BV</td>\n",
       "      <td>415000000.0</td>\n",
       "      <td>652000000</td>\n",
       "      <td>2010</td>\n",
       "    </tr>\n",
       "    <tr>\n",
       "      <th>1</th>\n",
       "      <td>Alice in Wonderland (2010)</td>\n",
       "      <td>BV</td>\n",
       "      <td>334200000.0</td>\n",
       "      <td>691300000</td>\n",
       "      <td>2010</td>\n",
       "    </tr>\n",
       "    <tr>\n",
       "      <th>2</th>\n",
       "      <td>Harry Potter and the Deathly Hallows Part 1</td>\n",
       "      <td>WB</td>\n",
       "      <td>296000000.0</td>\n",
       "      <td>664300000</td>\n",
       "      <td>2010</td>\n",
       "    </tr>\n",
       "    <tr>\n",
       "      <th>3</th>\n",
       "      <td>Inception</td>\n",
       "      <td>WB</td>\n",
       "      <td>292600000.0</td>\n",
       "      <td>535700000</td>\n",
       "      <td>2010</td>\n",
       "    </tr>\n",
       "    <tr>\n",
       "      <th>4</th>\n",
       "      <td>Shrek Forever After</td>\n",
       "      <td>P/DW</td>\n",
       "      <td>238700000.0</td>\n",
       "      <td>513900000</td>\n",
       "      <td>2010</td>\n",
       "    </tr>\n",
       "  </tbody>\n",
       "</table>\n",
       "</div>"
      ],
      "text/plain": [
       "                                         title studio  domestic_gross  \\\n",
       "0                                  Toy Story 3     BV     415000000.0   \n",
       "1                   Alice in Wonderland (2010)     BV     334200000.0   \n",
       "2  Harry Potter and the Deathly Hallows Part 1     WB     296000000.0   \n",
       "3                                    Inception     WB     292600000.0   \n",
       "4                          Shrek Forever After   P/DW     238700000.0   \n",
       "\n",
       "  foreign_gross  year  \n",
       "0     652000000  2010  \n",
       "1     691300000  2010  \n",
       "2     664300000  2010  \n",
       "3     535700000  2010  \n",
       "4     513900000  2010  "
      ]
     },
     "execution_count": 15,
     "metadata": {},
     "output_type": "execute_result"
    }
   ],
   "source": [
    "import pandas as pd\n",
    "\n",
    "# Assuming you've already loaded the data into 'movie_gross'\n",
    "movie_gross = pd.read_csv('./zippedData/bom.movie_gross.csv.gz')\n",
    "\n",
    "# Define bom_movies using 'movie_gross'\n",
    "bom_movies = movie_gross\n",
    "\n",
    "# Print DataFrame in the specified format with index\n",
    "bom_movies.head()\n",
    "\n"
   ]
  },
  {
   "cell_type": "code",
   "execution_count": 16,
   "metadata": {},
   "outputs": [
    {
     "data": {
      "text/html": [
       "<div>\n",
       "<style scoped>\n",
       "    .dataframe tbody tr th:only-of-type {\n",
       "        vertical-align: middle;\n",
       "    }\n",
       "\n",
       "    .dataframe tbody tr th {\n",
       "        vertical-align: top;\n",
       "    }\n",
       "\n",
       "    .dataframe thead th {\n",
       "        text-align: right;\n",
       "    }\n",
       "</style>\n",
       "<table border=\"1\" class=\"dataframe\">\n",
       "  <thead>\n",
       "    <tr style=\"text-align: right;\">\n",
       "      <th></th>\n",
       "      <th>title</th>\n",
       "      <th>studio</th>\n",
       "      <th>domestic_gross</th>\n",
       "      <th>foreign_gross</th>\n",
       "      <th>year</th>\n",
       "    </tr>\n",
       "  </thead>\n",
       "  <tbody>\n",
       "    <tr>\n",
       "      <th>3382</th>\n",
       "      <td>The Quake</td>\n",
       "      <td>Magn.</td>\n",
       "      <td>6200.0</td>\n",
       "      <td>NaN</td>\n",
       "      <td>2018</td>\n",
       "    </tr>\n",
       "    <tr>\n",
       "      <th>3383</th>\n",
       "      <td>Edward II (2018 re-release)</td>\n",
       "      <td>FM</td>\n",
       "      <td>4800.0</td>\n",
       "      <td>NaN</td>\n",
       "      <td>2018</td>\n",
       "    </tr>\n",
       "    <tr>\n",
       "      <th>3384</th>\n",
       "      <td>El Pacto</td>\n",
       "      <td>Sony</td>\n",
       "      <td>2500.0</td>\n",
       "      <td>NaN</td>\n",
       "      <td>2018</td>\n",
       "    </tr>\n",
       "    <tr>\n",
       "      <th>3385</th>\n",
       "      <td>The Swan</td>\n",
       "      <td>Synergetic</td>\n",
       "      <td>2400.0</td>\n",
       "      <td>NaN</td>\n",
       "      <td>2018</td>\n",
       "    </tr>\n",
       "    <tr>\n",
       "      <th>3386</th>\n",
       "      <td>An Actor Prepares</td>\n",
       "      <td>Grav.</td>\n",
       "      <td>1700.0</td>\n",
       "      <td>NaN</td>\n",
       "      <td>2018</td>\n",
       "    </tr>\n",
       "  </tbody>\n",
       "</table>\n",
       "</div>"
      ],
      "text/plain": [
       "                            title      studio  domestic_gross foreign_gross  \\\n",
       "3382                    The Quake       Magn.          6200.0           NaN   \n",
       "3383  Edward II (2018 re-release)          FM          4800.0           NaN   \n",
       "3384                     El Pacto        Sony          2500.0           NaN   \n",
       "3385                     The Swan  Synergetic          2400.0           NaN   \n",
       "3386            An Actor Prepares       Grav.          1700.0           NaN   \n",
       "\n",
       "      year  \n",
       "3382  2018  \n",
       "3383  2018  \n",
       "3384  2018  \n",
       "3385  2018  \n",
       "3386  2018  "
      ]
     },
     "execution_count": 16,
     "metadata": {},
     "output_type": "execute_result"
    }
   ],
   "source": [
    "import pandas as pd\n",
    "\n",
    "# Read the CSV file\n",
    "bom_movies = pd.read_csv('./zippedData/bom.movie_gross.csv.gz')\n",
    "\n",
    "# Print the bottom of the DataFrame in the specified format with index\n",
    "bom_movies.tail()\n"
   ]
  },
  {
   "cell_type": "code",
   "execution_count": 17,
   "metadata": {},
   "outputs": [
    {
     "data": {
      "text/plain": [
       "(3387, 5)"
      ]
     },
     "execution_count": 17,
     "metadata": {},
     "output_type": "execute_result"
    }
   ],
   "source": [
    "import pandas as pd\n",
    "\n",
    "# Read the CSV file\n",
    "bom_movies = pd.read_csv('./zippedData/bom.movie_gross.csv.gz')\n",
    "#determining the number of records in the bom_movies dataframe\n",
    "bom_movies.shape"
   ]
  },
  {
   "cell_type": "code",
   "execution_count": 18,
   "metadata": {},
   "outputs": [
    {
     "name": "stdout",
     "output_type": "stream",
     "text": [
      "<class 'pandas.core.frame.DataFrame'>\n",
      "RangeIndex: 3387 entries, 0 to 3386\n",
      "Data columns (total 5 columns):\n",
      " #   Column          Non-Null Count  Dtype  \n",
      "---  ------          --------------  -----  \n",
      " 0   title           3387 non-null   object \n",
      " 1   studio          3382 non-null   object \n",
      " 2   domestic_gross  3359 non-null   float64\n",
      " 3   foreign_gross   2037 non-null   object \n",
      " 4   year            3387 non-null   int64  \n",
      "dtypes: float64(1), int64(1), object(3)\n",
      "memory usage: 132.4+ KB\n"
     ]
    }
   ],
   "source": [
    "import pandas as pd\n",
    "\n",
    "# Read the CSV file\n",
    "bom_movies = pd.read_csv('./zippedData/bom.movie_gross.csv.gz')\n",
    "\n",
    "# Print DataFrame information\n",
    "bom_movies.info()\n"
   ]
  },
  {
   "cell_type": "code",
   "execution_count": 19,
   "metadata": {},
   "outputs": [
    {
     "data": {
      "text/html": [
       "<div>\n",
       "<style scoped>\n",
       "    .dataframe tbody tr th:only-of-type {\n",
       "        vertical-align: middle;\n",
       "    }\n",
       "\n",
       "    .dataframe tbody tr th {\n",
       "        vertical-align: top;\n",
       "    }\n",
       "\n",
       "    .dataframe thead th {\n",
       "        text-align: right;\n",
       "    }\n",
       "</style>\n",
       "<table border=\"1\" class=\"dataframe\">\n",
       "  <thead>\n",
       "    <tr style=\"text-align: right;\">\n",
       "      <th></th>\n",
       "      <th>domestic_gross</th>\n",
       "      <th>year</th>\n",
       "    </tr>\n",
       "  </thead>\n",
       "  <tbody>\n",
       "    <tr>\n",
       "      <th>count</th>\n",
       "      <td>3.359000e+03</td>\n",
       "      <td>3387.000000</td>\n",
       "    </tr>\n",
       "    <tr>\n",
       "      <th>mean</th>\n",
       "      <td>2.874585e+07</td>\n",
       "      <td>2013.958075</td>\n",
       "    </tr>\n",
       "    <tr>\n",
       "      <th>std</th>\n",
       "      <td>6.698250e+07</td>\n",
       "      <td>2.478141</td>\n",
       "    </tr>\n",
       "    <tr>\n",
       "      <th>min</th>\n",
       "      <td>1.000000e+02</td>\n",
       "      <td>2010.000000</td>\n",
       "    </tr>\n",
       "    <tr>\n",
       "      <th>25%</th>\n",
       "      <td>1.200000e+05</td>\n",
       "      <td>2012.000000</td>\n",
       "    </tr>\n",
       "    <tr>\n",
       "      <th>50%</th>\n",
       "      <td>1.400000e+06</td>\n",
       "      <td>2014.000000</td>\n",
       "    </tr>\n",
       "    <tr>\n",
       "      <th>75%</th>\n",
       "      <td>2.790000e+07</td>\n",
       "      <td>2016.000000</td>\n",
       "    </tr>\n",
       "    <tr>\n",
       "      <th>max</th>\n",
       "      <td>9.367000e+08</td>\n",
       "      <td>2018.000000</td>\n",
       "    </tr>\n",
       "  </tbody>\n",
       "</table>\n",
       "</div>"
      ],
      "text/plain": [
       "       domestic_gross         year\n",
       "count    3.359000e+03  3387.000000\n",
       "mean     2.874585e+07  2013.958075\n",
       "std      6.698250e+07     2.478141\n",
       "min      1.000000e+02  2010.000000\n",
       "25%      1.200000e+05  2012.000000\n",
       "50%      1.400000e+06  2014.000000\n",
       "75%      2.790000e+07  2016.000000\n",
       "max      9.367000e+08  2018.000000"
      ]
     },
     "execution_count": 19,
     "metadata": {},
     "output_type": "execute_result"
    }
   ],
   "source": [
    "#previewing the summary statistics of bom_movies\n",
    "bom_movies.describe()"
   ]
  },
  {
   "cell_type": "markdown",
   "metadata": {},
   "source": [
    "### Observations:\n",
    "1. bom_movies has the following columns with missing values: domestic_gross and foreign_gross.\n",
    "2. The foreign_gross column is in string format.\n",
    "\n"
   ]
  },
  {
   "cell_type": "markdown",
   "metadata": {},
   "source": [
    "### c. Rt_movies"
   ]
  },
  {
   "cell_type": "code",
   "execution_count": 20,
   "metadata": {},
   "outputs": [
    {
     "data": {
      "text/html": [
       "<div>\n",
       "<style scoped>\n",
       "    .dataframe tbody tr th:only-of-type {\n",
       "        vertical-align: middle;\n",
       "    }\n",
       "\n",
       "    .dataframe tbody tr th {\n",
       "        vertical-align: top;\n",
       "    }\n",
       "\n",
       "    .dataframe thead th {\n",
       "        text-align: right;\n",
       "    }\n",
       "</style>\n",
       "<table border=\"1\" class=\"dataframe\">\n",
       "  <thead>\n",
       "    <tr style=\"text-align: right;\">\n",
       "      <th></th>\n",
       "      <th>id</th>\n",
       "      <th>synopsis</th>\n",
       "      <th>rating</th>\n",
       "      <th>genre</th>\n",
       "      <th>director</th>\n",
       "      <th>writer</th>\n",
       "      <th>theater_date</th>\n",
       "      <th>dvd_date</th>\n",
       "      <th>currency</th>\n",
       "      <th>box_office</th>\n",
       "      <th>runtime</th>\n",
       "      <th>studio</th>\n",
       "    </tr>\n",
       "  </thead>\n",
       "  <tbody>\n",
       "    <tr>\n",
       "      <th>0</th>\n",
       "      <td>1</td>\n",
       "      <td>This gritty, fast-paced, and innovative police...</td>\n",
       "      <td>R</td>\n",
       "      <td>Action and Adventure|Classics|Drama</td>\n",
       "      <td>William Friedkin</td>\n",
       "      <td>Ernest Tidyman</td>\n",
       "      <td>Oct 9, 1971</td>\n",
       "      <td>Sep 25, 2001</td>\n",
       "      <td>NaN</td>\n",
       "      <td>NaN</td>\n",
       "      <td>104 minutes</td>\n",
       "      <td>NaN</td>\n",
       "    </tr>\n",
       "    <tr>\n",
       "      <th>1</th>\n",
       "      <td>3</td>\n",
       "      <td>New York City, not-too-distant-future: Eric Pa...</td>\n",
       "      <td>R</td>\n",
       "      <td>Drama|Science Fiction and Fantasy</td>\n",
       "      <td>David Cronenberg</td>\n",
       "      <td>David Cronenberg|Don DeLillo</td>\n",
       "      <td>Aug 17, 2012</td>\n",
       "      <td>Jan 1, 2013</td>\n",
       "      <td>$</td>\n",
       "      <td>600,000</td>\n",
       "      <td>108 minutes</td>\n",
       "      <td>Entertainment One</td>\n",
       "    </tr>\n",
       "    <tr>\n",
       "      <th>2</th>\n",
       "      <td>5</td>\n",
       "      <td>Illeana Douglas delivers a superb performance ...</td>\n",
       "      <td>R</td>\n",
       "      <td>Drama|Musical and Performing Arts</td>\n",
       "      <td>Allison Anders</td>\n",
       "      <td>Allison Anders</td>\n",
       "      <td>Sep 13, 1996</td>\n",
       "      <td>Apr 18, 2000</td>\n",
       "      <td>NaN</td>\n",
       "      <td>NaN</td>\n",
       "      <td>116 minutes</td>\n",
       "      <td>NaN</td>\n",
       "    </tr>\n",
       "    <tr>\n",
       "      <th>3</th>\n",
       "      <td>6</td>\n",
       "      <td>Michael Douglas runs afoul of a treacherous su...</td>\n",
       "      <td>R</td>\n",
       "      <td>Drama|Mystery and Suspense</td>\n",
       "      <td>Barry Levinson</td>\n",
       "      <td>Paul Attanasio|Michael Crichton</td>\n",
       "      <td>Dec 9, 1994</td>\n",
       "      <td>Aug 27, 1997</td>\n",
       "      <td>NaN</td>\n",
       "      <td>NaN</td>\n",
       "      <td>128 minutes</td>\n",
       "      <td>NaN</td>\n",
       "    </tr>\n",
       "    <tr>\n",
       "      <th>4</th>\n",
       "      <td>7</td>\n",
       "      <td>NaN</td>\n",
       "      <td>NR</td>\n",
       "      <td>Drama|Romance</td>\n",
       "      <td>Rodney Bennett</td>\n",
       "      <td>Giles Cooper</td>\n",
       "      <td>NaN</td>\n",
       "      <td>NaN</td>\n",
       "      <td>NaN</td>\n",
       "      <td>NaN</td>\n",
       "      <td>200 minutes</td>\n",
       "      <td>NaN</td>\n",
       "    </tr>\n",
       "  </tbody>\n",
       "</table>\n",
       "</div>"
      ],
      "text/plain": [
       "   id                                           synopsis rating  \\\n",
       "0   1  This gritty, fast-paced, and innovative police...      R   \n",
       "1   3  New York City, not-too-distant-future: Eric Pa...      R   \n",
       "2   5  Illeana Douglas delivers a superb performance ...      R   \n",
       "3   6  Michael Douglas runs afoul of a treacherous su...      R   \n",
       "4   7                                                NaN     NR   \n",
       "\n",
       "                                 genre          director  \\\n",
       "0  Action and Adventure|Classics|Drama  William Friedkin   \n",
       "1    Drama|Science Fiction and Fantasy  David Cronenberg   \n",
       "2    Drama|Musical and Performing Arts    Allison Anders   \n",
       "3           Drama|Mystery and Suspense    Barry Levinson   \n",
       "4                        Drama|Romance    Rodney Bennett   \n",
       "\n",
       "                            writer  theater_date      dvd_date currency  \\\n",
       "0                   Ernest Tidyman   Oct 9, 1971  Sep 25, 2001      NaN   \n",
       "1     David Cronenberg|Don DeLillo  Aug 17, 2012   Jan 1, 2013        $   \n",
       "2                   Allison Anders  Sep 13, 1996  Apr 18, 2000      NaN   \n",
       "3  Paul Attanasio|Michael Crichton   Dec 9, 1994  Aug 27, 1997      NaN   \n",
       "4                     Giles Cooper           NaN           NaN      NaN   \n",
       "\n",
       "  box_office      runtime             studio  \n",
       "0        NaN  104 minutes                NaN  \n",
       "1    600,000  108 minutes  Entertainment One  \n",
       "2        NaN  116 minutes                NaN  \n",
       "3        NaN  128 minutes                NaN  \n",
       "4        NaN  200 minutes                NaN  "
      ]
     },
     "execution_count": 20,
     "metadata": {},
     "output_type": "execute_result"
    }
   ],
   "source": [
    "import pandas as pd\n",
    "\n",
    "# Read the CSV files\n",
    "reviews = pd.read_csv('./zippedData/rt.reviews.tsv.gz', sep=\"\\t\", encoding='unicode_escape')\n",
    "movie_info = pd.read_csv('./zippedData/rt.movie_info.tsv.gz', sep=\"\\t\")\n",
    "\n",
    "# Display the top of the movie_info DataFrame\n",
    "movie_info.head()\n",
    "\n"
   ]
  },
  {
   "cell_type": "code",
   "execution_count": 21,
   "metadata": {},
   "outputs": [
    {
     "data": {
      "text/html": [
       "<div>\n",
       "<style scoped>\n",
       "    .dataframe tbody tr th:only-of-type {\n",
       "        vertical-align: middle;\n",
       "    }\n",
       "\n",
       "    .dataframe tbody tr th {\n",
       "        vertical-align: top;\n",
       "    }\n",
       "\n",
       "    .dataframe thead th {\n",
       "        text-align: right;\n",
       "    }\n",
       "</style>\n",
       "<table border=\"1\" class=\"dataframe\">\n",
       "  <thead>\n",
       "    <tr style=\"text-align: right;\">\n",
       "      <th></th>\n",
       "      <th>id</th>\n",
       "      <th>synopsis</th>\n",
       "      <th>rating</th>\n",
       "      <th>genre</th>\n",
       "      <th>director</th>\n",
       "      <th>writer</th>\n",
       "      <th>theater_date</th>\n",
       "      <th>dvd_date</th>\n",
       "      <th>currency</th>\n",
       "      <th>box_office</th>\n",
       "      <th>runtime</th>\n",
       "      <th>studio</th>\n",
       "    </tr>\n",
       "  </thead>\n",
       "  <tbody>\n",
       "    <tr>\n",
       "      <th>1555</th>\n",
       "      <td>1996</td>\n",
       "      <td>Forget terrorists or hijackers -- there's a ha...</td>\n",
       "      <td>R</td>\n",
       "      <td>Action and Adventure|Horror|Mystery and Suspense</td>\n",
       "      <td>NaN</td>\n",
       "      <td>NaN</td>\n",
       "      <td>Aug 18, 2006</td>\n",
       "      <td>Jan 2, 2007</td>\n",
       "      <td>$</td>\n",
       "      <td>33,886,034</td>\n",
       "      <td>106 minutes</td>\n",
       "      <td>New Line Cinema</td>\n",
       "    </tr>\n",
       "    <tr>\n",
       "      <th>1556</th>\n",
       "      <td>1997</td>\n",
       "      <td>The popular Saturday Night Live sketch was exp...</td>\n",
       "      <td>PG</td>\n",
       "      <td>Comedy|Science Fiction and Fantasy</td>\n",
       "      <td>Steve Barron</td>\n",
       "      <td>Terry Turner|Tom Davis|Dan Aykroyd|Bonnie Turner</td>\n",
       "      <td>Jul 23, 1993</td>\n",
       "      <td>Apr 17, 2001</td>\n",
       "      <td>NaN</td>\n",
       "      <td>NaN</td>\n",
       "      <td>88 minutes</td>\n",
       "      <td>Paramount Vantage</td>\n",
       "    </tr>\n",
       "    <tr>\n",
       "      <th>1557</th>\n",
       "      <td>1998</td>\n",
       "      <td>Based on a novel by Richard Powell, when the l...</td>\n",
       "      <td>G</td>\n",
       "      <td>Classics|Comedy|Drama|Musical and Performing Arts</td>\n",
       "      <td>Gordon Douglas</td>\n",
       "      <td>NaN</td>\n",
       "      <td>Jan 1, 1962</td>\n",
       "      <td>May 11, 2004</td>\n",
       "      <td>NaN</td>\n",
       "      <td>NaN</td>\n",
       "      <td>111 minutes</td>\n",
       "      <td>NaN</td>\n",
       "    </tr>\n",
       "    <tr>\n",
       "      <th>1558</th>\n",
       "      <td>1999</td>\n",
       "      <td>The Sandlot is a coming-of-age story about a g...</td>\n",
       "      <td>PG</td>\n",
       "      <td>Comedy|Drama|Kids and Family|Sports and Fitness</td>\n",
       "      <td>David Mickey Evans</td>\n",
       "      <td>David Mickey Evans|Robert Gunter</td>\n",
       "      <td>Apr 1, 1993</td>\n",
       "      <td>Jan 29, 2002</td>\n",
       "      <td>NaN</td>\n",
       "      <td>NaN</td>\n",
       "      <td>101 minutes</td>\n",
       "      <td>NaN</td>\n",
       "    </tr>\n",
       "    <tr>\n",
       "      <th>1559</th>\n",
       "      <td>2000</td>\n",
       "      <td>Suspended from the force, Paris cop Hubert is ...</td>\n",
       "      <td>R</td>\n",
       "      <td>Action and Adventure|Art House and Internation...</td>\n",
       "      <td>NaN</td>\n",
       "      <td>Luc Besson</td>\n",
       "      <td>Sep 27, 2001</td>\n",
       "      <td>Feb 11, 2003</td>\n",
       "      <td>NaN</td>\n",
       "      <td>NaN</td>\n",
       "      <td>94 minutes</td>\n",
       "      <td>Columbia Pictures</td>\n",
       "    </tr>\n",
       "  </tbody>\n",
       "</table>\n",
       "</div>"
      ],
      "text/plain": [
       "        id                                           synopsis rating  \\\n",
       "1555  1996  Forget terrorists or hijackers -- there's a ha...      R   \n",
       "1556  1997  The popular Saturday Night Live sketch was exp...     PG   \n",
       "1557  1998  Based on a novel by Richard Powell, when the l...      G   \n",
       "1558  1999  The Sandlot is a coming-of-age story about a g...     PG   \n",
       "1559  2000  Suspended from the force, Paris cop Hubert is ...      R   \n",
       "\n",
       "                                                  genre            director  \\\n",
       "1555   Action and Adventure|Horror|Mystery and Suspense                 NaN   \n",
       "1556                 Comedy|Science Fiction and Fantasy        Steve Barron   \n",
       "1557  Classics|Comedy|Drama|Musical and Performing Arts      Gordon Douglas   \n",
       "1558    Comedy|Drama|Kids and Family|Sports and Fitness  David Mickey Evans   \n",
       "1559  Action and Adventure|Art House and Internation...                 NaN   \n",
       "\n",
       "                                                writer  theater_date  \\\n",
       "1555                                               NaN  Aug 18, 2006   \n",
       "1556  Terry Turner|Tom Davis|Dan Aykroyd|Bonnie Turner  Jul 23, 1993   \n",
       "1557                                               NaN   Jan 1, 1962   \n",
       "1558                  David Mickey Evans|Robert Gunter   Apr 1, 1993   \n",
       "1559                                        Luc Besson  Sep 27, 2001   \n",
       "\n",
       "          dvd_date currency  box_office      runtime             studio  \n",
       "1555   Jan 2, 2007        $  33,886,034  106 minutes    New Line Cinema  \n",
       "1556  Apr 17, 2001      NaN         NaN   88 minutes  Paramount Vantage  \n",
       "1557  May 11, 2004      NaN         NaN  111 minutes                NaN  \n",
       "1558  Jan 29, 2002      NaN         NaN  101 minutes                NaN  \n",
       "1559  Feb 11, 2003      NaN         NaN   94 minutes  Columbia Pictures  "
      ]
     },
     "execution_count": 21,
     "metadata": {},
     "output_type": "execute_result"
    }
   ],
   "source": [
    "import pandas as pd\n",
    "\n",
    "# Read the CSV files\n",
    "reviews = pd.read_csv('./zippedData/rt.reviews.tsv.gz', sep=\"\\t\", encoding='unicode_escape')\n",
    "movie_info = pd.read_csv('./zippedData/rt.movie_info.tsv.gz', sep=\"\\t\")\n",
    "\n",
    "# Display the bottom of the movie_info DataFrame\n",
    "movie_info.tail()\n"
   ]
  },
  {
   "cell_type": "code",
   "execution_count": 22,
   "metadata": {},
   "outputs": [
    {
     "data": {
      "text/plain": [
       "(1560, 12)"
      ]
     },
     "execution_count": 22,
     "metadata": {},
     "output_type": "execute_result"
    }
   ],
   "source": [
    "import pandas as pd\n",
    "\n",
    "# Read the CSV files\n",
    "reviews = pd.read_csv('./zippedData/rt.reviews.tsv.gz', sep=\"\\t\", encoding='unicode_escape')\n",
    "movie_info = pd.read_csv('./zippedData/rt.movie_info.tsv.gz', sep=\"\\t\")\n",
    "\n",
    "# Determine the number of records in the movie_info DataFrame\n",
    "movie_info.shape\n",
    "\n"
   ]
  },
  {
   "cell_type": "code",
   "execution_count": 23,
   "metadata": {},
   "outputs": [
    {
     "name": "stdout",
     "output_type": "stream",
     "text": [
      "<class 'pandas.core.frame.DataFrame'>\n",
      "RangeIndex: 54432 entries, 0 to 54431\n",
      "Data columns (total 8 columns):\n",
      " #   Column      Non-Null Count  Dtype \n",
      "---  ------      --------------  ----- \n",
      " 0   id          54432 non-null  int64 \n",
      " 1   review      48869 non-null  object\n",
      " 2   rating      40915 non-null  object\n",
      " 3   fresh       54432 non-null  object\n",
      " 4   critic      51710 non-null  object\n",
      " 5   top_critic  54432 non-null  int64 \n",
      " 6   publisher   54123 non-null  object\n",
      " 7   date        54432 non-null  object\n",
      "dtypes: int64(2), object(6)\n",
      "memory usage: 3.3+ MB\n"
     ]
    }
   ],
   "source": [
    "import pandas as pd\n",
    "\n",
    "# Read the CSV files\n",
    "reviews = pd.read_csv('./zippedData/rt.reviews.tsv.gz', sep=\"\\t\", encoding='unicode_escape')\n",
    "movie_info = pd.read_csv('./zippedData/rt.movie_info.tsv.gz', sep=\"\\t\")\n",
    "\n",
    "# Print information about the reviews DataFrame\n",
    "reviews.info()\n"
   ]
  },
  {
   "cell_type": "markdown",
   "metadata": {},
   "source": [
    "### Observations:\n",
    "1. The columns review,rating and critic have missing values\n",
    "2. rt_reviews can be merged with rt_movies on id as they are from the same source.\n",
    "3. There are multiple reviews per movie.\n",
    "4. The rating column appears to be out of 5."
   ]
  },
  {
   "cell_type": "markdown",
   "metadata": {},
   "source": [
    "\n",
    "### 3.Clean the data "
   ]
  },
  {
   "cell_type": "markdown",
   "metadata": {},
   "source": [
    "### a) Data Cleaning\n",
    "This section deals with data cleaning methods that prepares the data for exploratory analysis. It tackles the problems with the datasets that have been observed while exploring them and any other that occur afterwards. It addresses the following:\n",
    "   - Duplicated rows\n",
    "   - Missing values\n",
    "   - Unwanted observations\n",
    "   - Structural issues\n",
    "   - Outliers\n",
    "   - Invalid data\n",
    "   - Merges\n",
    "   \n",
    "### i) Duplicate Rows\n",
    "It is helpful to define a function that checks for duplicate rows in all the dataframes.   "
   ]
  },
  {
   "cell_type": "code",
   "execution_count": 24,
   "metadata": {},
   "outputs": [],
   "source": [
    "#defining a function checking for number of duplicated rows\n",
    "def check_duplicates(df):\n",
    "    duplicates = df.duplicated().sum()\n",
    "    print (f\"There are {duplicates} duplicated rows\")"
   ]
  },
  {
   "cell_type": "code",
   "execution_count": 25,
   "metadata": {},
   "outputs": [
    {
     "name": "stdout",
     "output_type": "stream",
     "text": [
      "There are 95357 duplicated rows\n"
     ]
    }
   ],
   "source": [
    "#checking for duplicates in imdb dataframe\n",
    "check_duplicates(imdb)"
   ]
  },
  {
   "cell_type": "code",
   "execution_count": 26,
   "metadata": {},
   "outputs": [
    {
     "name": "stdout",
     "output_type": "stream",
     "text": [
      "There are 0 duplicated rows\n"
     ]
    }
   ],
   "source": [
    "#checking for duplicates in bom_movies dataframe\n",
    "check_duplicates(bom_movies)"
   ]
  },
  {
   "cell_type": "code",
   "execution_count": 27,
   "metadata": {},
   "outputs": [
    {
     "name": "stdout",
     "output_type": "stream",
     "text": [
      "Duplicates in reviews DataFrame:\n",
      "There are 9 duplicated rows\n"
     ]
    }
   ],
   "source": [
    "\n",
    "\n",
    "\n",
    "# Load the movie_info DataFrame from the specified file\n",
    "reviews = pd.read_csv('./zippedData/rt.reviews.tsv.gz', sep=\"\\t\", encoding='unicode_escape')\n",
    "# Check for duplicates in the reviews DataFrame\n",
    "print(\"Duplicates in reviews DataFrame:\")\n",
    "check_duplicates(reviews)\n",
    "\n",
    "\n"
   ]
  },
  {
   "cell_type": "code",
   "execution_count": 28,
   "metadata": {},
   "outputs": [
    {
     "name": "stdout",
     "output_type": "stream",
     "text": [
      "No duplicates found.\n"
     ]
    }
   ],
   "source": [
    "import pandas as pd\n",
    "\n",
    "# Define the check_duplicates function\n",
    "def check_duplicates(df):\n",
    "    duplicates = df[df.duplicated()]\n",
    "    if duplicates.empty:\n",
    "        print(\"No duplicates found.\")\n",
    "    else:\n",
    "        print(\"Duplicates found:\")\n",
    "        print(duplicates)\n",
    "\n",
    "# Load the reviews DataFrame from the specified file\n",
    "reviews = pd.read_csv('./zippedData/rt.reviews.tsv.gz', sep=\"\\t\", encoding='unicode_escape')\n",
    "\n",
    "# Load the movie_info DataFrame from the specified file\n",
    "movie_info = pd.read_csv('./zippedData/rt.movie_info.tsv.gz', sep=\"\\t\")\n",
    "\n",
    "# Check for duplicates in the movie_info DataFrame\n",
    "check_duplicates(movie_info)\n"
   ]
  },
  {
   "cell_type": "code",
   "execution_count": 29,
   "metadata": {},
   "outputs": [],
   "source": [
    "import pandas as pd\n",
    "\n",
    "# Load the rt_reviews DataFrame from the specified file\n",
    "rt_reviews = pd.read_csv('./zippedData/rt.reviews.tsv.gz', sep=\"\\t\", encoding='unicode_escape')\n",
    "\n",
    "# Drop duplicates in the rt_reviews DataFrame\n",
    "rt_reviews.drop_duplicates(inplace=True)\n",
    "\n",
    "# Now, you can proceed with your further operations using rt_reviews DataFrame.\n"
   ]
  },
  {
   "cell_type": "code",
   "execution_count": 30,
   "metadata": {},
   "outputs": [
    {
     "name": "stdout",
     "output_type": "stream",
     "text": [
      "Duplicates found:\n",
      "         movie_id               primary_title              original_title  \\\n",
      "1       tt0063540                   Sunghursh                   Sunghursh   \n",
      "2       tt0063540                   Sunghursh                   Sunghursh   \n",
      "3       tt0063540                   Sunghursh                   Sunghursh   \n",
      "6       tt0069049  The Other Side of the Wind  The Other Side of the Wind   \n",
      "9       tt0100275    The Wandering Soap Opera       La Telenovela Errante   \n",
      "...           ...                         ...                         ...   \n",
      "181376  tt9911774   Padmavyuhathile Abhimanyu   Padmavyuhathile Abhimanyu   \n",
      "181379  tt9913084            Diabolik sono io            Diabolik sono io   \n",
      "181381  tt9914286           Sokagin Çocuklari           Sokagin Çocuklari   \n",
      "181383  tt9914642                   Albatross                   Albatross   \n",
      "181385  tt9914942  La vida sense la Sara Amat  La vida sense la Sara Amat   \n",
      "\n",
      "        start_year  runtime_minutes                genres  averagerating  \\\n",
      "1             2013            175.0    Action,Crime,Drama            7.0   \n",
      "2             2013            175.0    Action,Crime,Drama            7.0   \n",
      "3             2013            175.0    Action,Crime,Drama            7.0   \n",
      "6             2018            122.0                 Drama            6.9   \n",
      "9             2017             80.0  Comedy,Drama,Fantasy            6.5   \n",
      "...            ...              ...                   ...            ...   \n",
      "181376        2019            130.0                 Drama            8.4   \n",
      "181379        2019             75.0           Documentary            6.2   \n",
      "181381        2019             98.0          Drama,Family            8.7   \n",
      "181383        2017              NaN           Documentary            8.5   \n",
      "181385        2019              NaN                  None            6.6   \n",
      "\n",
      "        numvotes   person_id         primary_name  birth_year  death_year  \\\n",
      "1             77   nm0712540  Harnam Singh Rawail      1921.0      2004.0   \n",
      "2             77   nm0712540  Harnam Singh Rawail      1921.0      2004.0   \n",
      "3             77   nm0712540  Harnam Singh Rawail      1921.0      2004.0   \n",
      "6           4517   nm0000080         Orson Welles      1915.0      1985.0   \n",
      "9            119   nm0749914           Raoul Ruiz      1941.0      2011.0   \n",
      "...          ...         ...                  ...         ...         ...   \n",
      "181376       365  nm10536451      Vineesh Aaradya         NaN         NaN   \n",
      "181379         6   nm0812850      Giancarlo Soldi      1954.0         NaN   \n",
      "181381       136   nm4394529    Ahmet Faik Akinci         NaN         NaN   \n",
      "181383         8   nm5300859         Chris Jordan         NaN         NaN   \n",
      "181385         5   nm1716653            Laura Jou         NaN         NaN   \n",
      "\n",
      "                    primary_profession  \n",
      "1             director,writer,producer  \n",
      "2             director,writer,producer  \n",
      "3             director,writer,producer  \n",
      "6                actor,director,writer  \n",
      "9             director,writer,producer  \n",
      "...                                ...  \n",
      "181376                 writer,director  \n",
      "181379        director,writer,producer  \n",
      "181381                 director,writer  \n",
      "181383          director,writer,editor  \n",
      "181385  miscellaneous,actress,director  \n",
      "\n",
      "[95357 rows x 13 columns]\n",
      "No duplicates found.\n"
     ]
    }
   ],
   "source": [
    "#confirming that duplicates have been dropped \n",
    "check_duplicates(imdb)\n",
    "check_duplicates(rt_reviews)"
   ]
  },
  {
   "cell_type": "markdown",
   "metadata": {},
   "source": [
    "### ii)  Missing Values\n",
    "The dataframes have columns with missing values. The next step is to create a fuction that returns the percentage of missing values in each column."
   ]
  },
  {
   "cell_type": "code",
   "execution_count": 31,
   "metadata": {},
   "outputs": [],
   "source": [
    "#defining a function that prints the percentage of null rows in all columns \n",
    "def find_percentage_of_nulls(df):\n",
    "    \n",
    "    #loop through all columns and print percentage of missing values in each\n",
    "    \n",
    "    for column in df.columns:\n",
    "        percentage = round(df[column].isnull().sum()/(len(df))*100,3)\n",
    "        print(f\"The percentage of null rows in column {column} is {percentage}%\")   "
   ]
  },
  {
   "cell_type": "markdown",
   "metadata": {},
   "source": [
    " 1. The studio column and the domestic_gross column only have 0.827% and 0.148% missing values. It makes sense to drop the rows as they will not affect the data analysis.\n",
    "\n",
    " 2. The foreign_gross column has almost 40% of the data being null. As it is in string format, the missing values can be replaced with "
   ]
  },
  {
   "cell_type": "code",
   "execution_count": 32,
   "metadata": {},
   "outputs": [],
   "source": [
    "#dropping null rows in studio and domestic_gross column\n",
    "bom_movies.dropna(inplace = True, subset = ['studio','domestic_gross'])"
   ]
  },
  {
   "cell_type": "code",
   "execution_count": 33,
   "metadata": {},
   "outputs": [],
   "source": [
    "#replace missing values with 0 in foreign_gross column\n",
    "bom_movies.foreign_gross.fillna('0',inplace = True)"
   ]
  },
  {
   "cell_type": "code",
   "execution_count": 34,
   "metadata": {},
   "outputs": [
    {
     "name": "stdout",
     "output_type": "stream",
     "text": [
      "<class 'pandas.core.frame.DataFrame'>\n",
      "Index: 3356 entries, 0 to 3386\n",
      "Data columns (total 5 columns):\n",
      " #   Column          Non-Null Count  Dtype  \n",
      "---  ------          --------------  -----  \n",
      " 0   title           3356 non-null   object \n",
      " 1   studio          3356 non-null   object \n",
      " 2   domestic_gross  3356 non-null   float64\n",
      " 3   foreign_gross   3356 non-null   object \n",
      " 4   year            3356 non-null   int64  \n",
      "dtypes: float64(1), int64(1), object(3)\n",
      "memory usage: 157.3+ KB\n"
     ]
    }
   ],
   "source": [
    "#confirming there are no missing values\n",
    "bom_movies.info()"
   ]
  },
  {
   "cell_type": "markdown",
   "metadata": {},
   "source": [
    "### rt_movies"
   ]
  },
  {
   "cell_type": "code",
   "execution_count": 35,
   "metadata": {},
   "outputs": [
    {
     "name": "stdout",
     "output_type": "stream",
     "text": [
      "The percentage of null rows in column id is 0.000%\n",
      "The percentage of null rows in column synopsis is 3.974%\n",
      "The percentage of null rows in column rating is 0.192%\n",
      "The percentage of null rows in column genre is 0.513%\n",
      "The percentage of null rows in column director is 12.756%\n",
      "The percentage of null rows in column writer is 28.782%\n",
      "The percentage of null rows in column theater_date is 23.013%\n",
      "The percentage of null rows in column dvd_date is 23.013%\n",
      "The percentage of null rows in column currency is 78.205%\n",
      "The percentage of null rows in column box_office is 78.205%\n",
      "The percentage of null rows in column runtime is 1.923%\n",
      "The percentage of null rows in column studio is 68.333%\n"
     ]
    }
   ],
   "source": [
    "import pandas as pd\n",
    "\n",
    "# Load the rt_movies DataFrame from the specified file\n",
    "rt_movies = pd.read_csv('./zippedData/rt.movie_info.tsv.gz', sep=\"\\t\")\n",
    "\n",
    "# Define the function to find the percentage of null values\n",
    "def find_percentage_of_nulls(df):\n",
    "    # Calculate the percentage of null values in each column\n",
    "    null_percentage = df.isnull().mean() * 100\n",
    "    \n",
    "    # Print the result for each column\n",
    "    for column, percentage in null_percentage.items():\n",
    "        print(f\"The percentage of null rows in column {column} is {percentage:.3f}%\")\n",
    "\n",
    "# Call the function to find the percentage of null values in rt_movies\n",
    "find_percentage_of_nulls(rt_movies)\n",
    "\n",
    "\n"
   ]
  },
  {
   "cell_type": "markdown",
   "metadata": {},
   "source": [
    "### observations \n",
    "- The following columns have a large percentage of null values : currency, box_office and studio. The best way to proceed is by dropping these columns. Columns synopsis, director, writer, theater_date, dvd_date are to be dropped as they are not required for this analysis.\n",
    "- The columns rating, genre, runtime have a small number of null values. These will be handled by dropping the rows."
   ]
  },
  {
   "cell_type": "code",
   "execution_count": 36,
   "metadata": {},
   "outputs": [],
   "source": [
    "#dropping columns with too many null values\n",
    "rt_movies.drop(['synopsis','director','writer','theater_date','dvd_date','currency','box_office','studio'],\n",
    "               axis = 1,inplace=True)"
   ]
  },
  {
   "cell_type": "code",
   "execution_count": 37,
   "metadata": {},
   "outputs": [],
   "source": [
    "#dropping rows with null values\n",
    "rt_movies.dropna(subset = ['rating','genre','runtime'],inplace = True)"
   ]
  },
  {
   "cell_type": "code",
   "execution_count": 38,
   "metadata": {},
   "outputs": [
    {
     "name": "stdout",
     "output_type": "stream",
     "text": [
      "<class 'pandas.core.frame.DataFrame'>\n",
      "Index: 1526 entries, 0 to 1559\n",
      "Data columns (total 4 columns):\n",
      " #   Column   Non-Null Count  Dtype \n",
      "---  ------   --------------  ----- \n",
      " 0   id       1526 non-null   int64 \n",
      " 1   rating   1526 non-null   object\n",
      " 2   genre    1526 non-null   object\n",
      " 3   runtime  1526 non-null   object\n",
      "dtypes: int64(1), object(3)\n",
      "memory usage: 59.6+ KB\n"
     ]
    }
   ],
   "source": [
    "#confirming there are no missing values\n",
    "rt_movies.info()"
   ]
  },
  {
   "cell_type": "markdown",
   "metadata": {},
   "source": [
    "### rt_reviews"
   ]
  },
  {
   "cell_type": "code",
   "execution_count": 39,
   "metadata": {},
   "outputs": [
    {
     "name": "stdout",
     "output_type": "stream",
     "text": [
      "The percentage of null rows in column id is 0.000%\n",
      "The percentage of null rows in column review is 10.209%\n",
      "The percentage of null rows in column rating is 24.835%\n",
      "The percentage of null rows in column fresh is 0.000%\n",
      "The percentage of null rows in column critic is 4.985%\n",
      "The percentage of null rows in column top_critic is 0.000%\n",
      "The percentage of null rows in column publisher is 0.568%\n",
      "The percentage of null rows in column date is 0.000%\n"
     ]
    }
   ],
   "source": [
    "#checking for percentage of null values in each column\n",
    "find_percentage_of_nulls(rt_reviews)"
   ]
  },
  {
   "cell_type": "markdown",
   "metadata": {},
   "source": [
    "\n",
    "Removing rows from the columns review, critic, and publisher should be adequate since there will still be a sufficient number of entries for analysis. Delving deeper into the rating column will facilitate making a more informed decision."
   ]
  },
  {
   "cell_type": "code",
   "execution_count": 40,
   "metadata": {},
   "outputs": [
    {
     "data": {
      "text/plain": [
       "array(['3/5', nan, 'C', '2/5', 'B-', '2/4', 'B', '3/4', '4/5', '4/4',\n",
       "       '6/10', '1/4', '8', '2.5/4', '4/10', '2.0/5', '3/10', '7/10', 'A-',\n",
       "       '5/5', 'F', '3.5/4', 'D+', '1.5/4', '3.5/5', '8/10', 'B+', '9/10',\n",
       "       '2.5/5', '7.5/10', '5.5/10', 'C-', '1.5/5', '1/5', '5/10', 'C+',\n",
       "       '0/5', '6', '0.5/4', 'D', '3.1/5', '3/6', '4.5/5', '0/4', '2/10',\n",
       "       'D-', '7', '1/10', '3', 'A+', 'A', '4.0/4', '9.5/10', '2.5',\n",
       "       '2.1/2', '6.5/10', '3.7/5', '8.4/10', '9', '1', '7.2/10', '2.2/5',\n",
       "       '0.5/10', '5', '0', '2', '4.5', '7.7', '5.0/5', '8.5/10', '3.0/5',\n",
       "       '0.5/5', '1.5/10', '3.0/4', '2.3/10', '4.5/10', '4/6', '3.5',\n",
       "       '8.6/10', '6/8', '2.0/4', '2.7', '4.2/10', '5.8', '4', '7.1/10',\n",
       "       '5/4', 'N', '3.5/10', '5.8/10', 'R', '4.0/5', '0/10', '5.0/10',\n",
       "       '5.9/10', '2.4/5', '1.9/5', '4.9', '7.4/10', '1.5', '2.3/4',\n",
       "       '8.8/10', '4.0/10', '2.2', '3.8/10', '6.8/10', '7.3', '7.0/10',\n",
       "       '3.2', '4.2', '8.4', '5.5/5', '6.3/10', '7.6/10', '8.1/10',\n",
       "       '3.6/5', '2/6', '7.7/10', '1.8', '8.9/10', '8.9', '8.2/10',\n",
       "       '8.3/10', '2.6/6', '4.1/10', '2.5/10', 'F+', '6.0/10', '1.0/4',\n",
       "       '7.9/10', '8.7/10', '4.3/10', '9.6/10', '9.0/10', '4.0', '1.7',\n",
       "       '7.9', '6.7', '8.0/10', '9.2/10', '5.2', '5.9', '3.7', '4.7',\n",
       "       '6.2/10', '1/6', '8.2', '2.6/5', '3.4', '9.7', '3.3/5', '3.8/5',\n",
       "       '1/2', '7.4', '4.8', '1.6/5', '2/2', '1-5', '1.0', '4.3/5', '5/6',\n",
       "       '9.2', '2.7/5', '4.9/10', '3.0', '3.1', '7.8/10', 'F-', '2.3/5',\n",
       "       '3.0/10', '3/2', '7.8', '4.2/5', '9.0', '7.3/10', '4.4/5',\n",
       "       '6.9/10', '0/6', 'T', '6.2', '3.3', '9.8', '8.5', '1.0/5', '4.1',\n",
       "       '7.1', '3 1/2'], dtype=object)"
      ]
     },
     "execution_count": 40,
     "metadata": {},
     "output_type": "execute_result"
    }
   ],
   "source": [
    "#checking the unique values in the rating column\n",
    "rt_reviews.rating.unique()"
   ]
  },
  {
   "cell_type": "markdown",
   "metadata": {},
   "source": [
    "Given the apparent inconsistency in the rating system within this column, it seems prudent to drop the column altogether as attempting to group or analyze the ratings further may prove challenging."
   ]
  },
  {
   "cell_type": "code",
   "execution_count": 41,
   "metadata": {},
   "outputs": [],
   "source": [
    "#dropping rating column\n",
    "rt_reviews.drop('rating',axis=1,inplace=True)"
   ]
  },
  {
   "cell_type": "code",
   "execution_count": 42,
   "metadata": {},
   "outputs": [],
   "source": [
    "#dropping rows with null values\n",
    "rt_reviews.dropna(inplace = True)"
   ]
  },
  {
   "cell_type": "code",
   "execution_count": 43,
   "metadata": {},
   "outputs": [
    {
     "name": "stdout",
     "output_type": "stream",
     "text": [
      "<class 'pandas.core.frame.DataFrame'>\n",
      "Index: 46662 entries, 0 to 54427\n",
      "Data columns (total 7 columns):\n",
      " #   Column      Non-Null Count  Dtype \n",
      "---  ------      --------------  ----- \n",
      " 0   id          46662 non-null  int64 \n",
      " 1   review      46662 non-null  object\n",
      " 2   fresh       46662 non-null  object\n",
      " 3   critic      46662 non-null  object\n",
      " 4   top_critic  46662 non-null  int64 \n",
      " 5   publisher   46662 non-null  object\n",
      " 6   date        46662 non-null  object\n",
      "dtypes: int64(2), object(5)\n",
      "memory usage: 2.8+ MB\n"
     ]
    }
   ],
   "source": [
    "#confirming there are no missing values\n",
    "rt_reviews.info()"
   ]
  },
  {
   "cell_type": "markdown",
   "metadata": {},
   "source": [
    "### iii)Structural Issues\n",
    "The dataframes imdb and rt_movies have structural issues. Their genre columns are separated by commas and pipes respectively. This will be dealt with by splitting the columns on their specific delimiters using the `.split()` method then, using the `.explode()` method, transformed into separate rows retaining all other column values. This will increase the number of rows.\n",
    "\n",
    "**a. imdb movies**"
   ]
  },
  {
   "cell_type": "code",
   "execution_count": 44,
   "metadata": {},
   "outputs": [],
   "source": [
    "imdb = imdb.assign(genres=imdb.genres.str.split(',')).explode('genres')"
   ]
  },
  {
   "cell_type": "code",
   "execution_count": 45,
   "metadata": {},
   "outputs": [
    {
     "data": {
      "text/html": [
       "<div>\n",
       "<style scoped>\n",
       "    .dataframe tbody tr th:only-of-type {\n",
       "        vertical-align: middle;\n",
       "    }\n",
       "\n",
       "    .dataframe tbody tr th {\n",
       "        vertical-align: top;\n",
       "    }\n",
       "\n",
       "    .dataframe thead th {\n",
       "        text-align: right;\n",
       "    }\n",
       "</style>\n",
       "<table border=\"1\" class=\"dataframe\">\n",
       "  <thead>\n",
       "    <tr style=\"text-align: right;\">\n",
       "      <th></th>\n",
       "      <th>movie_id</th>\n",
       "      <th>primary_title</th>\n",
       "      <th>original_title</th>\n",
       "      <th>start_year</th>\n",
       "      <th>runtime_minutes</th>\n",
       "      <th>genres</th>\n",
       "      <th>averagerating</th>\n",
       "      <th>numvotes</th>\n",
       "      <th>person_id</th>\n",
       "      <th>primary_name</th>\n",
       "      <th>birth_year</th>\n",
       "      <th>death_year</th>\n",
       "      <th>primary_profession</th>\n",
       "    </tr>\n",
       "  </thead>\n",
       "  <tbody>\n",
       "    <tr>\n",
       "      <th>0</th>\n",
       "      <td>tt0063540</td>\n",
       "      <td>Sunghursh</td>\n",
       "      <td>Sunghursh</td>\n",
       "      <td>2013</td>\n",
       "      <td>175.0</td>\n",
       "      <td>Action</td>\n",
       "      <td>7.0</td>\n",
       "      <td>77</td>\n",
       "      <td>nm0712540</td>\n",
       "      <td>Harnam Singh Rawail</td>\n",
       "      <td>1921.0</td>\n",
       "      <td>2004.0</td>\n",
       "      <td>director,writer,producer</td>\n",
       "    </tr>\n",
       "    <tr>\n",
       "      <th>0</th>\n",
       "      <td>tt0063540</td>\n",
       "      <td>Sunghursh</td>\n",
       "      <td>Sunghursh</td>\n",
       "      <td>2013</td>\n",
       "      <td>175.0</td>\n",
       "      <td>Crime</td>\n",
       "      <td>7.0</td>\n",
       "      <td>77</td>\n",
       "      <td>nm0712540</td>\n",
       "      <td>Harnam Singh Rawail</td>\n",
       "      <td>1921.0</td>\n",
       "      <td>2004.0</td>\n",
       "      <td>director,writer,producer</td>\n",
       "    </tr>\n",
       "    <tr>\n",
       "      <th>0</th>\n",
       "      <td>tt0063540</td>\n",
       "      <td>Sunghursh</td>\n",
       "      <td>Sunghursh</td>\n",
       "      <td>2013</td>\n",
       "      <td>175.0</td>\n",
       "      <td>Drama</td>\n",
       "      <td>7.0</td>\n",
       "      <td>77</td>\n",
       "      <td>nm0712540</td>\n",
       "      <td>Harnam Singh Rawail</td>\n",
       "      <td>1921.0</td>\n",
       "      <td>2004.0</td>\n",
       "      <td>director,writer,producer</td>\n",
       "    </tr>\n",
       "    <tr>\n",
       "      <th>1</th>\n",
       "      <td>tt0063540</td>\n",
       "      <td>Sunghursh</td>\n",
       "      <td>Sunghursh</td>\n",
       "      <td>2013</td>\n",
       "      <td>175.0</td>\n",
       "      <td>Action</td>\n",
       "      <td>7.0</td>\n",
       "      <td>77</td>\n",
       "      <td>nm0712540</td>\n",
       "      <td>Harnam Singh Rawail</td>\n",
       "      <td>1921.0</td>\n",
       "      <td>2004.0</td>\n",
       "      <td>director,writer,producer</td>\n",
       "    </tr>\n",
       "    <tr>\n",
       "      <th>1</th>\n",
       "      <td>tt0063540</td>\n",
       "      <td>Sunghursh</td>\n",
       "      <td>Sunghursh</td>\n",
       "      <td>2013</td>\n",
       "      <td>175.0</td>\n",
       "      <td>Crime</td>\n",
       "      <td>7.0</td>\n",
       "      <td>77</td>\n",
       "      <td>nm0712540</td>\n",
       "      <td>Harnam Singh Rawail</td>\n",
       "      <td>1921.0</td>\n",
       "      <td>2004.0</td>\n",
       "      <td>director,writer,producer</td>\n",
       "    </tr>\n",
       "  </tbody>\n",
       "</table>\n",
       "</div>"
      ],
      "text/plain": [
       "    movie_id primary_title original_title  start_year  runtime_minutes  \\\n",
       "0  tt0063540     Sunghursh      Sunghursh        2013            175.0   \n",
       "0  tt0063540     Sunghursh      Sunghursh        2013            175.0   \n",
       "0  tt0063540     Sunghursh      Sunghursh        2013            175.0   \n",
       "1  tt0063540     Sunghursh      Sunghursh        2013            175.0   \n",
       "1  tt0063540     Sunghursh      Sunghursh        2013            175.0   \n",
       "\n",
       "   genres  averagerating  numvotes  person_id         primary_name  \\\n",
       "0  Action            7.0        77  nm0712540  Harnam Singh Rawail   \n",
       "0   Crime            7.0        77  nm0712540  Harnam Singh Rawail   \n",
       "0   Drama            7.0        77  nm0712540  Harnam Singh Rawail   \n",
       "1  Action            7.0        77  nm0712540  Harnam Singh Rawail   \n",
       "1   Crime            7.0        77  nm0712540  Harnam Singh Rawail   \n",
       "\n",
       "   birth_year  death_year        primary_profession  \n",
       "0      1921.0      2004.0  director,writer,producer  \n",
       "0      1921.0      2004.0  director,writer,producer  \n",
       "0      1921.0      2004.0  director,writer,producer  \n",
       "1      1921.0      2004.0  director,writer,producer  \n",
       "1      1921.0      2004.0  director,writer,producer  "
      ]
     },
     "execution_count": 45,
     "metadata": {},
     "output_type": "execute_result"
    }
   ],
   "source": [
    "imdb.head()"
   ]
  },
  {
   "cell_type": "markdown",
   "metadata": {},
   "source": [
    "### rt_movies"
   ]
  },
  {
   "cell_type": "code",
   "execution_count": 46,
   "metadata": {},
   "outputs": [],
   "source": [
    "rt_movies = rt_movies.assign(genre=rt_movies.genre.str.split('|')).explode('genre')"
   ]
  },
  {
   "cell_type": "code",
   "execution_count": 47,
   "metadata": {},
   "outputs": [
    {
     "data": {
      "text/html": [
       "<div>\n",
       "<style scoped>\n",
       "    .dataframe tbody tr th:only-of-type {\n",
       "        vertical-align: middle;\n",
       "    }\n",
       "\n",
       "    .dataframe tbody tr th {\n",
       "        vertical-align: top;\n",
       "    }\n",
       "\n",
       "    .dataframe thead th {\n",
       "        text-align: right;\n",
       "    }\n",
       "</style>\n",
       "<table border=\"1\" class=\"dataframe\">\n",
       "  <thead>\n",
       "    <tr style=\"text-align: right;\">\n",
       "      <th></th>\n",
       "      <th>id</th>\n",
       "      <th>rating</th>\n",
       "      <th>genre</th>\n",
       "      <th>runtime</th>\n",
       "    </tr>\n",
       "  </thead>\n",
       "  <tbody>\n",
       "    <tr>\n",
       "      <th>0</th>\n",
       "      <td>1</td>\n",
       "      <td>R</td>\n",
       "      <td>Action and Adventure</td>\n",
       "      <td>104 minutes</td>\n",
       "    </tr>\n",
       "    <tr>\n",
       "      <th>0</th>\n",
       "      <td>1</td>\n",
       "      <td>R</td>\n",
       "      <td>Classics</td>\n",
       "      <td>104 minutes</td>\n",
       "    </tr>\n",
       "    <tr>\n",
       "      <th>0</th>\n",
       "      <td>1</td>\n",
       "      <td>R</td>\n",
       "      <td>Drama</td>\n",
       "      <td>104 minutes</td>\n",
       "    </tr>\n",
       "    <tr>\n",
       "      <th>1</th>\n",
       "      <td>3</td>\n",
       "      <td>R</td>\n",
       "      <td>Drama</td>\n",
       "      <td>108 minutes</td>\n",
       "    </tr>\n",
       "    <tr>\n",
       "      <th>1</th>\n",
       "      <td>3</td>\n",
       "      <td>R</td>\n",
       "      <td>Science Fiction and Fantasy</td>\n",
       "      <td>108 minutes</td>\n",
       "    </tr>\n",
       "  </tbody>\n",
       "</table>\n",
       "</div>"
      ],
      "text/plain": [
       "   id rating                        genre      runtime\n",
       "0   1      R         Action and Adventure  104 minutes\n",
       "0   1      R                     Classics  104 minutes\n",
       "0   1      R                        Drama  104 minutes\n",
       "1   3      R                        Drama  108 minutes\n",
       "1   3      R  Science Fiction and Fantasy  108 minutes"
      ]
     },
     "execution_count": 47,
     "metadata": {},
     "output_type": "execute_result"
    }
   ],
   "source": [
    "rt_movies.head()"
   ]
  },
  {
   "cell_type": "markdown",
   "metadata": {},
   "source": [
    "### iv)Outliers\n",
    "The IMDb dataframe contains a movie with a duration of 51,420 minutes, which heavily distorts the data. This anomaly is evident in the boxplot below:"
   ]
  },
  {
   "cell_type": "code",
   "execution_count": 48,
   "metadata": {},
   "outputs": [
    {
     "name": "stderr",
     "output_type": "stream",
     "text": [
      "c:\\Users\\user\\anaconda3\\envs\\learn-env\\lib\\site-packages\\seaborn\\_oldcore.py:1498: FutureWarning: is_categorical_dtype is deprecated and will be removed in a future version. Use isinstance(dtype, CategoricalDtype) instead\n",
      "  if pd.api.types.is_categorical_dtype(vector):\n"
     ]
    },
    {
     "data": {
      "image/png": "[encoded data removed]",
      "text/plain": [
       "<Figure size 640x480 with 1 Axes>"
      ]
     },
     "metadata": {},
     "output_type": "display_data"
    }
   ],
   "source": [
    "import seaborn as sns\n",
    "import matplotlib.pyplot as plt\n",
    "\n",
    "# Create the boxplot\n",
    "sns.boxplot(data=imdb, x='runtime_minutes')\n",
    "\n",
    "# Save the boxplot as a PNG image\n",
    "plt.savefig('boxplot.png')\n"
   ]
  },
  {
   "cell_type": "code",
   "execution_count": 49,
   "metadata": {},
   "outputs": [
    {
     "data": {
      "text/html": [
       "<div>\n",
       "<style scoped>\n",
       "    .dataframe tbody tr th:only-of-type {\n",
       "        vertical-align: middle;\n",
       "    }\n",
       "\n",
       "    .dataframe tbody tr th {\n",
       "        vertical-align: top;\n",
       "    }\n",
       "\n",
       "    .dataframe thead th {\n",
       "        text-align: right;\n",
       "    }\n",
       "</style>\n",
       "<table border=\"1\" class=\"dataframe\">\n",
       "  <thead>\n",
       "    <tr style=\"text-align: right;\">\n",
       "      <th></th>\n",
       "      <th>movie_id</th>\n",
       "      <th>primary_title</th>\n",
       "      <th>original_title</th>\n",
       "      <th>start_year</th>\n",
       "      <th>runtime_minutes</th>\n",
       "      <th>genres</th>\n",
       "      <th>averagerating</th>\n",
       "      <th>numvotes</th>\n",
       "      <th>person_id</th>\n",
       "      <th>primary_name</th>\n",
       "      <th>birth_year</th>\n",
       "      <th>death_year</th>\n",
       "      <th>primary_profession</th>\n",
       "    </tr>\n",
       "  </thead>\n",
       "  <tbody>\n",
       "    <tr>\n",
       "      <th>143</th>\n",
       "      <td>tt0396123</td>\n",
       "      <td>Den milde smerte</td>\n",
       "      <td>Den milde smerte</td>\n",
       "      <td>2010</td>\n",
       "      <td>280.0</td>\n",
       "      <td>Drama</td>\n",
       "      <td>7.8</td>\n",
       "      <td>6</td>\n",
       "      <td>nm0104888</td>\n",
       "      <td>Carsten Brandt</td>\n",
       "      <td>NaN</td>\n",
       "      <td>NaN</td>\n",
       "      <td>actor,director,writer</td>\n",
       "    </tr>\n",
       "    <tr>\n",
       "      <th>1701</th>\n",
       "      <td>tt10243660</td>\n",
       "      <td>A Tale of Two Kitchens</td>\n",
       "      <td>A Tale of Two Kitchens</td>\n",
       "      <td>2019</td>\n",
       "      <td>29.0</td>\n",
       "      <td>Documentary</td>\n",
       "      <td>6.7</td>\n",
       "      <td>104</td>\n",
       "      <td>nm1970269</td>\n",
       "      <td>Trisha Ziff</td>\n",
       "      <td>NaN</td>\n",
       "      <td>NaN</td>\n",
       "      <td>producer,director,writer</td>\n",
       "    </tr>\n",
       "    <tr>\n",
       "      <th>1705</th>\n",
       "      <td>tt10244756</td>\n",
       "      <td>Ang hupa</td>\n",
       "      <td>Ang hupa</td>\n",
       "      <td>2019</td>\n",
       "      <td>276.0</td>\n",
       "      <td>Sci-Fi</td>\n",
       "      <td>7.2</td>\n",
       "      <td>5</td>\n",
       "      <td>nm0225010</td>\n",
       "      <td>Lav Diaz</td>\n",
       "      <td>1958.0</td>\n",
       "      <td>NaN</td>\n",
       "      <td>writer,director,editor</td>\n",
       "    </tr>\n",
       "    <tr>\n",
       "      <th>2216</th>\n",
       "      <td>tt1113829</td>\n",
       "      <td>George Harrison: Living in the Material World</td>\n",
       "      <td>George Harrison: Living in the Material World</td>\n",
       "      <td>2011</td>\n",
       "      <td>208.0</td>\n",
       "      <td>Biography</td>\n",
       "      <td>8.2</td>\n",
       "      <td>9372</td>\n",
       "      <td>nm0000217</td>\n",
       "      <td>Martin Scorsese</td>\n",
       "      <td>1942.0</td>\n",
       "      <td>NaN</td>\n",
       "      <td>producer,director,actor</td>\n",
       "    </tr>\n",
       "    <tr>\n",
       "      <th>2216</th>\n",
       "      <td>tt1113829</td>\n",
       "      <td>George Harrison: Living in the Material World</td>\n",
       "      <td>George Harrison: Living in the Material World</td>\n",
       "      <td>2011</td>\n",
       "      <td>208.0</td>\n",
       "      <td>Documentary</td>\n",
       "      <td>8.2</td>\n",
       "      <td>9372</td>\n",
       "      <td>nm0000217</td>\n",
       "      <td>Martin Scorsese</td>\n",
       "      <td>1942.0</td>\n",
       "      <td>NaN</td>\n",
       "      <td>producer,director,actor</td>\n",
       "    </tr>\n",
       "    <tr>\n",
       "      <th>...</th>\n",
       "      <td>...</td>\n",
       "      <td>...</td>\n",
       "      <td>...</td>\n",
       "      <td>...</td>\n",
       "      <td>...</td>\n",
       "      <td>...</td>\n",
       "      <td>...</td>\n",
       "      <td>...</td>\n",
       "      <td>...</td>\n",
       "      <td>...</td>\n",
       "      <td>...</td>\n",
       "      <td>...</td>\n",
       "      <td>...</td>\n",
       "    </tr>\n",
       "    <tr>\n",
       "      <th>179676</th>\n",
       "      <td>tt9318514</td>\n",
       "      <td>Reason</td>\n",
       "      <td>Vivek</td>\n",
       "      <td>2018</td>\n",
       "      <td>261.0</td>\n",
       "      <td>Documentary</td>\n",
       "      <td>9.0</td>\n",
       "      <td>44</td>\n",
       "      <td>nm0666674</td>\n",
       "      <td>Anand Patwardhan</td>\n",
       "      <td>1950.0</td>\n",
       "      <td>NaN</td>\n",
       "      <td>director,editor,producer</td>\n",
       "    </tr>\n",
       "    <tr>\n",
       "      <th>180302</th>\n",
       "      <td>tt9573980</td>\n",
       "      <td>Leaving Neverland</td>\n",
       "      <td>Leaving Neverland</td>\n",
       "      <td>2019</td>\n",
       "      <td>240.0</td>\n",
       "      <td>Documentary</td>\n",
       "      <td>7.1</td>\n",
       "      <td>19632</td>\n",
       "      <td>nm0715371</td>\n",
       "      <td>Dan Reed</td>\n",
       "      <td>1964.0</td>\n",
       "      <td>NaN</td>\n",
       "      <td>director,producer,writer</td>\n",
       "    </tr>\n",
       "    <tr>\n",
       "      <th>180784</th>\n",
       "      <td>tt9749570</td>\n",
       "      <td>Heimat Is a Space in Time</td>\n",
       "      <td>Heimat ist ein Raum aus Zeit</td>\n",
       "      <td>2019</td>\n",
       "      <td>218.0</td>\n",
       "      <td>Documentary</td>\n",
       "      <td>7.8</td>\n",
       "      <td>14</td>\n",
       "      <td>nm0374656</td>\n",
       "      <td>Thomas Heise</td>\n",
       "      <td>1955.0</td>\n",
       "      <td>NaN</td>\n",
       "      <td>director,writer,producer</td>\n",
       "    </tr>\n",
       "    <tr>\n",
       "      <th>181098</th>\n",
       "      <td>tt9865446</td>\n",
       "      <td>Siege</td>\n",
       "      <td>Siege</td>\n",
       "      <td>2019</td>\n",
       "      <td>16.0</td>\n",
       "      <td>Sci-Fi</td>\n",
       "      <td>8.5</td>\n",
       "      <td>32</td>\n",
       "      <td>nm10490240</td>\n",
       "      <td>Deeptanshu Sinha</td>\n",
       "      <td>NaN</td>\n",
       "      <td>NaN</td>\n",
       "      <td>director,writer,art_department</td>\n",
       "    </tr>\n",
       "    <tr>\n",
       "      <th>181098</th>\n",
       "      <td>tt9865446</td>\n",
       "      <td>Siege</td>\n",
       "      <td>Siege</td>\n",
       "      <td>2019</td>\n",
       "      <td>16.0</td>\n",
       "      <td>Thriller</td>\n",
       "      <td>8.5</td>\n",
       "      <td>32</td>\n",
       "      <td>nm10490240</td>\n",
       "      <td>Deeptanshu Sinha</td>\n",
       "      <td>NaN</td>\n",
       "      <td>NaN</td>\n",
       "      <td>director,writer,art_department</td>\n",
       "    </tr>\n",
       "  </tbody>\n",
       "</table>\n",
       "<p>982 rows × 13 columns</p>\n",
       "</div>"
      ],
      "text/plain": [
       "          movie_id                                  primary_title  \\\n",
       "143      tt0396123                               Den milde smerte   \n",
       "1701    tt10243660                         A Tale of Two Kitchens   \n",
       "1705    tt10244756                                       Ang hupa   \n",
       "2216     tt1113829  George Harrison: Living in the Material World   \n",
       "2216     tt1113829  George Harrison: Living in the Material World   \n",
       "...            ...                                            ...   \n",
       "179676   tt9318514                                         Reason   \n",
       "180302   tt9573980                              Leaving Neverland   \n",
       "180784   tt9749570                      Heimat Is a Space in Time   \n",
       "181098   tt9865446                                          Siege   \n",
       "181098   tt9865446                                          Siege   \n",
       "\n",
       "                                       original_title  start_year  \\\n",
       "143                                  Den milde smerte        2010   \n",
       "1701                           A Tale of Two Kitchens        2019   \n",
       "1705                                         Ang hupa        2019   \n",
       "2216    George Harrison: Living in the Material World        2011   \n",
       "2216    George Harrison: Living in the Material World        2011   \n",
       "...                                               ...         ...   \n",
       "179676                                          Vivek        2018   \n",
       "180302                              Leaving Neverland        2019   \n",
       "180784                   Heimat ist ein Raum aus Zeit        2019   \n",
       "181098                                          Siege        2019   \n",
       "181098                                          Siege        2019   \n",
       "\n",
       "        runtime_minutes       genres  averagerating  numvotes   person_id  \\\n",
       "143               280.0        Drama            7.8         6   nm0104888   \n",
       "1701               29.0  Documentary            6.7       104   nm1970269   \n",
       "1705              276.0       Sci-Fi            7.2         5   nm0225010   \n",
       "2216              208.0    Biography            8.2      9372   nm0000217   \n",
       "2216              208.0  Documentary            8.2      9372   nm0000217   \n",
       "...                 ...          ...            ...       ...         ...   \n",
       "179676            261.0  Documentary            9.0        44   nm0666674   \n",
       "180302            240.0  Documentary            7.1     19632   nm0715371   \n",
       "180784            218.0  Documentary            7.8        14   nm0374656   \n",
       "181098             16.0       Sci-Fi            8.5        32  nm10490240   \n",
       "181098             16.0     Thriller            8.5        32  nm10490240   \n",
       "\n",
       "            primary_name  birth_year  death_year  \\\n",
       "143       Carsten Brandt         NaN         NaN   \n",
       "1701         Trisha Ziff         NaN         NaN   \n",
       "1705            Lav Diaz      1958.0         NaN   \n",
       "2216     Martin Scorsese      1942.0         NaN   \n",
       "2216     Martin Scorsese      1942.0         NaN   \n",
       "...                  ...         ...         ...   \n",
       "179676  Anand Patwardhan      1950.0         NaN   \n",
       "180302          Dan Reed      1964.0         NaN   \n",
       "180784      Thomas Heise      1955.0         NaN   \n",
       "181098  Deeptanshu Sinha         NaN         NaN   \n",
       "181098  Deeptanshu Sinha         NaN         NaN   \n",
       "\n",
       "                    primary_profession  \n",
       "143              actor,director,writer  \n",
       "1701          producer,director,writer  \n",
       "1705            writer,director,editor  \n",
       "2216           producer,director,actor  \n",
       "2216           producer,director,actor  \n",
       "...                                ...  \n",
       "179676        director,editor,producer  \n",
       "180302        director,producer,writer  \n",
       "180784        director,writer,producer  \n",
       "181098  director,writer,art_department  \n",
       "181098  director,writer,art_department  \n",
       "\n",
       "[982 rows x 13 columns]"
      ]
     },
     "execution_count": 49,
     "metadata": {},
     "output_type": "execute_result"
    }
   ],
   "source": [
    "#selecting the rows with the outliers\n",
    "imdb.loc[(imdb.runtime_minutes > 200) | (imdb.runtime_minutes < 30)]"
   ]
  },
  {
   "cell_type": "code",
   "execution_count": 50,
   "metadata": {},
   "outputs": [],
   "source": [
    "#dropping the outliers\n",
    "imdb = imdb.loc[(imdb.runtime_minutes <= 200) & (imdb.runtime_minutes >= 30)]"
   ]
  },
  {
   "cell_type": "code",
   "execution_count": 51,
   "metadata": {},
   "outputs": [
    {
     "name": "stderr",
     "output_type": "stream",
     "text": [
      "c:\\Users\\user\\anaconda3\\envs\\learn-env\\lib\\site-packages\\seaborn\\_oldcore.py:1498: FutureWarning: is_categorical_dtype is deprecated and will be removed in a future version. Use isinstance(dtype, CategoricalDtype) instead\n",
      "  if pd.api.types.is_categorical_dtype(vector):\n"
     ]
    },
    {
     "data": {
      "image/png": "[encoded data removed]",
      "text/plain": [
       "<Figure size 640x480 with 1 Axes>"
      ]
     },
     "metadata": {},
     "output_type": "display_data"
    }
   ],
   "source": [
    "import seaborn as sns\n",
    "import matplotlib.pyplot as plt\n",
    "\n",
    "# Create the boxplot\n",
    "sns.boxplot(data=imdb, x='runtime_minutes')\n",
    "\n",
    "# Save the boxplot as a PNG file\n",
    "plt.savefig('boxplot.png')\n",
    "\n",
    "# Show the plot\n",
    "plt.show()\n"
   ]
  },
  {
   "cell_type": "markdown",
   "metadata": {},
   "source": [
    "### v)Invalid Data\n",
    "bom_movies and rt_movies dataframes have columns with the wrong datatypes.\n",
    "\n",
    "### bom_movies\n",
    "\n",
    "The \"foreign_gross\" column is currently stored as a string format. To conduct numeric operations, it must be converted to float format.operations."
   ]
  },
  {
   "cell_type": "code",
   "execution_count": 52,
   "metadata": {},
   "outputs": [],
   "source": [
    "#removing any commas\n",
    "bom_movies.foreign_gross = bom_movies.foreign_gross.map(lambda x:x.replace(\",\",\"\"))"
   ]
  },
  {
   "cell_type": "code",
   "execution_count": 53,
   "metadata": {},
   "outputs": [],
   "source": [
    "#converting to a float\n",
    "bom_movies.foreign_gross = bom_movies.foreign_gross.astype(float)"
   ]
  },
  {
   "cell_type": "markdown",
   "metadata": {},
   "source": [
    "### rt_movies\n",
    "\n",
    "\n",
    "The \"runtime\" column is currently in string format, with the word \"minutes\" included. This text will be removed, and the column will be converted to integer format.\n",
    "\n",
    "\n",
    "\n"
   ]
  },
  {
   "cell_type": "code",
   "execution_count": 54,
   "metadata": {},
   "outputs": [],
   "source": [
    "#removing minutes\n",
    "rt_movies.runtime = rt_movies.runtime.str.replace('minutes',\"\")"
   ]
  },
  {
   "cell_type": "code",
   "execution_count": 55,
   "metadata": {},
   "outputs": [],
   "source": [
    "#converting to integer\n",
    "rt_movies.runtime = rt_movies.runtime.astype('int')"
   ]
  },
  {
   "cell_type": "markdown",
   "metadata": {},
   "source": [
    "### vi)Merges\n",
    "\n",
    "Both rt_movies and rt_reviews originate from the same source and should be merged based on the common column id."
   ]
  },
  {
   "cell_type": "code",
   "execution_count": 56,
   "metadata": {},
   "outputs": [],
   "source": [
    "#merging the two dataframes\n",
    "rt_merged = rt_reviews.merge(rt_movies, how = 'inner',on = 'id')"
   ]
  },
  {
   "cell_type": "code",
   "execution_count": 57,
   "metadata": {},
   "outputs": [
    {
     "data": {
      "text/html": [
       "<div>\n",
       "<style scoped>\n",
       "    .dataframe tbody tr th:only-of-type {\n",
       "        vertical-align: middle;\n",
       "    }\n",
       "\n",
       "    .dataframe tbody tr th {\n",
       "        vertical-align: top;\n",
       "    }\n",
       "\n",
       "    .dataframe thead th {\n",
       "        text-align: right;\n",
       "    }\n",
       "</style>\n",
       "<table border=\"1\" class=\"dataframe\">\n",
       "  <thead>\n",
       "    <tr style=\"text-align: right;\">\n",
       "      <th></th>\n",
       "      <th>id</th>\n",
       "      <th>review</th>\n",
       "      <th>fresh</th>\n",
       "      <th>critic</th>\n",
       "      <th>top_critic</th>\n",
       "      <th>publisher</th>\n",
       "      <th>date</th>\n",
       "      <th>rating</th>\n",
       "      <th>genre</th>\n",
       "      <th>runtime</th>\n",
       "    </tr>\n",
       "  </thead>\n",
       "  <tbody>\n",
       "    <tr>\n",
       "      <th>0</th>\n",
       "      <td>3</td>\n",
       "      <td>A distinctly gallows take on contemporary fina...</td>\n",
       "      <td>fresh</td>\n",
       "      <td>PJ Nabarro</td>\n",
       "      <td>0</td>\n",
       "      <td>Patrick Nabarro</td>\n",
       "      <td>November 10, 2018</td>\n",
       "      <td>R</td>\n",
       "      <td>Drama</td>\n",
       "      <td>108</td>\n",
       "    </tr>\n",
       "    <tr>\n",
       "      <th>1</th>\n",
       "      <td>3</td>\n",
       "      <td>A distinctly gallows take on contemporary fina...</td>\n",
       "      <td>fresh</td>\n",
       "      <td>PJ Nabarro</td>\n",
       "      <td>0</td>\n",
       "      <td>Patrick Nabarro</td>\n",
       "      <td>November 10, 2018</td>\n",
       "      <td>R</td>\n",
       "      <td>Science Fiction and Fantasy</td>\n",
       "      <td>108</td>\n",
       "    </tr>\n",
       "    <tr>\n",
       "      <th>2</th>\n",
       "      <td>3</td>\n",
       "      <td>It's an allegory in search of a meaning that n...</td>\n",
       "      <td>rotten</td>\n",
       "      <td>Annalee Newitz</td>\n",
       "      <td>0</td>\n",
       "      <td>io9.com</td>\n",
       "      <td>May 23, 2018</td>\n",
       "      <td>R</td>\n",
       "      <td>Drama</td>\n",
       "      <td>108</td>\n",
       "    </tr>\n",
       "    <tr>\n",
       "      <th>3</th>\n",
       "      <td>3</td>\n",
       "      <td>It's an allegory in search of a meaning that n...</td>\n",
       "      <td>rotten</td>\n",
       "      <td>Annalee Newitz</td>\n",
       "      <td>0</td>\n",
       "      <td>io9.com</td>\n",
       "      <td>May 23, 2018</td>\n",
       "      <td>R</td>\n",
       "      <td>Science Fiction and Fantasy</td>\n",
       "      <td>108</td>\n",
       "    </tr>\n",
       "    <tr>\n",
       "      <th>4</th>\n",
       "      <td>3</td>\n",
       "      <td>... life lived in a bubble in financial dealin...</td>\n",
       "      <td>fresh</td>\n",
       "      <td>Sean Axmaker</td>\n",
       "      <td>0</td>\n",
       "      <td>Stream on Demand</td>\n",
       "      <td>January 4, 2018</td>\n",
       "      <td>R</td>\n",
       "      <td>Drama</td>\n",
       "      <td>108</td>\n",
       "    </tr>\n",
       "  </tbody>\n",
       "</table>\n",
       "</div>"
      ],
      "text/plain": [
       "   id                                             review   fresh  \\\n",
       "0   3  A distinctly gallows take on contemporary fina...   fresh   \n",
       "1   3  A distinctly gallows take on contemporary fina...   fresh   \n",
       "2   3  It's an allegory in search of a meaning that n...  rotten   \n",
       "3   3  It's an allegory in search of a meaning that n...  rotten   \n",
       "4   3  ... life lived in a bubble in financial dealin...   fresh   \n",
       "\n",
       "           critic  top_critic         publisher               date rating  \\\n",
       "0      PJ Nabarro           0   Patrick Nabarro  November 10, 2018      R   \n",
       "1      PJ Nabarro           0   Patrick Nabarro  November 10, 2018      R   \n",
       "2  Annalee Newitz           0           io9.com       May 23, 2018      R   \n",
       "3  Annalee Newitz           0           io9.com       May 23, 2018      R   \n",
       "4    Sean Axmaker           0  Stream on Demand    January 4, 2018      R   \n",
       "\n",
       "                         genre  runtime  \n",
       "0                        Drama      108  \n",
       "1  Science Fiction and Fantasy      108  \n",
       "2                        Drama      108  \n",
       "3  Science Fiction and Fantasy      108  \n",
       "4                        Drama      108  "
      ]
     },
     "execution_count": 57,
     "metadata": {},
     "output_type": "execute_result"
    }
   ],
   "source": [
    "#previewing the new dataframe\n",
    "rt_merged.head()"
   ]
  },
  {
   "cell_type": "markdown",
   "metadata": {},
   "source": [
    "### 4. Analyzing Data and Creating Visualizations\n",
    "\n",
    "This section focuses on analyzing the data and creating visualizations to answer key business questions and provide recommendations.\n",
    "\n",
    "1. **Most Popular Genres**:\n",
    "   - Analyze genre popularity by categorizing movie ratings and sorting by the number of votes, with a threshold of at least 1000 votes for better insights.\n",
    "\n",
    "2. **Film Ratings of Most Watched Movies**:\n",
    "   - Examine film ratings for the most-watched movies using data from the IMDb dataframe.\n",
    "\n",
    "3. **Relationship Between Domestic and Foreign Gross Earnings**:\n",
    "   - Investigate the correlation between domestic and foreign gross earnings using relevant columns in the IMDb dataframe.\n",
    "\n",
    "4. **Most Successful Studios**:\n",
    "   - Identify the most successful studios by analyzing studio-related data in the IMDb dataframe.\n",
    "\n",
    "5. **Best Directors for the Project**:\n",
    "   - Determine the best directors for the project by assessing director-related data in the IMDb dataframe.\n",
    "\n",
    "Insights from the `rt_merged` dataframe will complement the analysis conducted on the IMDb dataframe.\n"
   ]
  },
  {
   "cell_type": "code",
   "execution_count": 58,
   "metadata": {},
   "outputs": [],
   "source": [
    "#creating a new column that categorises the average rating into high, average and low\n",
    "imdb['rating'] = [\"High\" if ((x >= 6) and (x <= 10)) \n",
    "                   else \"Low\" for x in imdb.averagerating]"
   ]
  },
  {
   "cell_type": "code",
   "execution_count": 59,
   "metadata": {},
   "outputs": [],
   "source": [
    "#sorting the dataframe by number of votes\n",
    "imdb.sort_values('numvotes', ascending = False, inplace = True)"
   ]
  },
  {
   "cell_type": "code",
   "execution_count": 60,
   "metadata": {},
   "outputs": [],
   "source": [
    "#creating a dataframe where number of votes are greater than 1000\n",
    "imdb1 = imdb.loc[imdb.numvotes > 1000]"
   ]
  },
  {
   "cell_type": "code",
   "execution_count": 61,
   "metadata": {},
   "outputs": [],
   "source": [
    "#grouping data by genre and rating\n",
    "genres = imdb1.groupby(['genres','rating'])['movie_id'].count()"
   ]
  },
  {
   "cell_type": "code",
   "execution_count": 62,
   "metadata": {},
   "outputs": [],
   "source": [
    "#sorting the dataframe by high ratings\n",
    "genres = genres.unstack().sort_values('High',ascending = False)[:10]"
   ]
  },
  {
   "cell_type": "code",
   "execution_count": 63,
   "metadata": {},
   "outputs": [],
   "source": [
    "#setting the plot style\n",
    "plt.style.use('ggplot')"
   ]
  },
  {
   "cell_type": "code",
   "execution_count": 66,
   "metadata": {},
   "outputs": [
    {
     "data": {
      "image/png": "[encoded data removed]",
      "text/plain": [
       "<Figure size 1500x1000 with 1 Axes>"
      ]
     },
     "metadata": {},
     "output_type": "display_data"
    }
   ],
   "source": [
    "import os\n",
    "import matplotlib.pyplot as plt\n",
    "\n",
    "# Create the directory if it doesn't exist\n",
    "os.makedirs('Images', exist_ok=True)\n",
    "\n",
    "# Plotting a bar graph of most popular genres\n",
    "fig, ax = plt.subplots(figsize=(15,10))\n",
    "\n",
    "title = 'Top 10 Genres According to IMDB'\n",
    "y_label = 'Number of High Ratings'\n",
    "x_label = 'Genre'\n",
    "\n",
    "genres.High.plot(kind='bar', color='purple')  # Set the color to purple\n",
    "ax.set_title(title, fontsize=15)\n",
    "ax.set_ylabel(y_label, fontsize=15)\n",
    "ax.set_xlabel(x_label, fontsize=15)\n",
    "plt.xticks(rotation=45, fontsize=12)\n",
    "\n",
    "# Save the image in the Images directory\n",
    "fig.savefig('Images/genres.png')\n",
    "\n"
   ]
  },
  {
   "cell_type": "markdown",
   "metadata": {},
   "source": [
    "\n",
    "We can also obtain the most popular categories based on the Rotten Tomatoes rating system, distinguishing between \"fresh\" and \"rotten\" ratings."
   ]
  },
  {
   "cell_type": "code",
   "execution_count": 65,
   "metadata": {},
   "outputs": [],
   "source": [
    "#grouping rt_merged by genre and fresh (rating)\n",
    "rt_genres = rt_merged.groupby(['genre','fresh']).count()['id'].unstack()"
   ]
  }
 ],
 "metadata": {
  "kernelspec": {
   "display_name": "Python (learn-env)",
   "language": "python",
   "name": "learn-env"
  },
  "language_info": {
   "codemirror_mode": {
    "name": "ipython",
    "version": 3
   },
   "file_extension": ".py",
   "mimetype": "text/x-python",
   "name": "python",
   "nbconvert_exporter": "python",
   "pygments_lexer": "ipython3",
   "version": "3.10.13"
  }
 },
 "nbformat": 4,
 "nbformat_minor": 2
}
